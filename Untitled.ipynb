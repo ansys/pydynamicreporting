{
 "cells": [
  {
   "cell_type": "code",
   "execution_count": 1,
   "id": "49fcef39-f582-44bd-9c48-4fefee75ee6e",
   "metadata": {},
   "outputs": [],
   "source": [
    "import numpy as np\n",
    "\n",
    "import ansys.dynamicreporting.core as adr\n",
    "\n",
    "ansys_loc = r\"C:\\Program Files\\ANSYS Inc\\v252\"\n",
    "db_dir = r\"C:\\tmp\\new_database\"\n",
    "adr_service = adr.Service(ansys_installation=ansys_loc, db_directory=db_dir)\n",
    "session_guid = adr_service.start(create_db=True)"
   ]
  },
  {
   "cell_type": "code",
   "execution_count": 6,
   "id": "c049e4e8-2a2d-408a-aa07-12e17fe66c0e",
   "metadata": {},
   "outputs": [
    {
     "data": {
      "text/html": [
       "\n",
       "        <iframe\n",
       "            width=\"1000\"\n",
       "            height=\"400\"\n",
       "            src=\"http://127.0.0.1:8000/reports/report_display/?usemenus=off&query=A%7Ci_guid%7C%eq%7Cd1715f96-bde7-11ef-b90a-28c5d2c15b32\"\n",
       "            frameborder=\"0\"\n",
       "            allowfullscreen\n",
       "            \n",
       "        ></iframe>\n",
       "        "
      ],
      "text/plain": [
       "<IPython.lib.display.IFrame at 0x22bc621fac0>"
      ]
     },
     "metadata": {},
     "output_type": "display_data"
    }
   ],
   "source": [
    "polar = adr_service.create_item()\n",
    "# We can use the same data as we use to visualize heatmap\n",
    "polar.item_table = np.array(\n",
    "        [\n",
    "            [-180, -135, -90, -45, 0, 45, 90, 135, 180],\n",
    "            [8.2, 7.3, 10.6, 5.6, 5.9, 9.1, 2.4, 1.6, 4.8],\n",
    "        ],\n",
    "        dtype=\"|S20\",\n",
    "    )\n",
    "polar.xaxis = 0\n",
    "polar.plot = \"polar plot\"\n",
    "polar.format = \"floatdot0\"\n",
    "polar.visualize()"
   ]
  },
  {
   "cell_type": "code",
   "execution_count": null,
   "id": "7e5cb902-97a8-4227-a9f2-594299332ce7",
   "metadata": {},
   "outputs": [],
   "source": []
  }
 ],
 "metadata": {
  "kernelspec": {
   "display_name": "venv",
   "language": "python",
   "name": "venv"
  },
  "language_info": {
   "codemirror_mode": {
    "name": "ipython",
    "version": 3
   },
   "file_extension": ".py",
   "mimetype": "text/x-python",
   "name": "python",
   "nbconvert_exporter": "python",
   "pygments_lexer": "ipython3",
   "version": "3.10.8"
  }
 },
 "nbformat": 4,
 "nbformat_minor": 5
}
