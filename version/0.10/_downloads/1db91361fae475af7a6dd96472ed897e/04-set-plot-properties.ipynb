{
  "cells": [
    {
      "cell_type": "code",
      "execution_count": null,
      "metadata": {
        "collapsed": false
      },
      "outputs": [],
      "source": [
        "# ``pydynamicreporting`` example Notebook\n#"
      ]
    },
    {
      "cell_type": "markdown",
      "metadata": {},
      "source": [
        "\n\n# How to set plot properties\n\nWhen working with a table, you can turn it into a plot by specifying\nthe plot type through the `plot` property. Once a table is converted\nyou can alter all sorts of plot properties by accessing properties on\nthe item object.\n\n<div class=\"alert alert-info\"><h4>Note</h4><p>This example assumes that you have a local Ansys installation.</p></div>\n\nInitially, you must create and start a session as per other examples.\n"
      ]
    },
    {
      "cell_type": "markdown",
      "metadata": {},
      "source": [
        "## Start an Ansys Dynamic Reporting service\n\nStart an Ansys Dynamic Reporting service on a new\ndatabase. The path for the database directory must be to an empty directory.\n\n\n"
      ]
    },
    {
      "cell_type": "code",
      "execution_count": null,
      "metadata": {
        "collapsed": false
      },
      "outputs": [],
      "source": [
        "import numpy as np\n\nimport ansys.dynamicreporting.core as adr\n\ndb_dir = \"C:\\\\tmp\\\\new_database\"\nadr_service = adr.Service(db_directory=db_dir)\nsession_guid = adr_service.start(create_db=True)"
      ]
    },
    {
      "cell_type": "markdown",
      "metadata": {},
      "source": [
        "## Create a simple table\n\nStart by creating a simple table and visualizing it. Create a table\nwith 5 columns and 2 rows.\n\n\n"
      ]
    },
    {
      "cell_type": "code",
      "execution_count": null,
      "metadata": {
        "collapsed": false
      },
      "outputs": [],
      "source": [
        "my_table = adr_service.create_item(obj_name=\"Table\")\nmy_table.table_dict[\"rowlbls\"] = [\"Row 1\", \"Row 2\"]\nmy_table.item_table = np.array(\n    [[\"1\", \"2\", \"3\", \"4\", \"5\"], [\"1\", \"4\", \"9\", \"16\", \"25\"]], dtype=\"|S20\"\n)"
      ]
    },
    {
      "cell_type": "markdown",
      "metadata": {},
      "source": [
        "Once you have created a table, set it to be a plot by changing\nits properties, and then you can set other properties.\n\n\n"
      ]
    },
    {
      "cell_type": "code",
      "execution_count": null,
      "metadata": {
        "collapsed": false
      },
      "outputs": [],
      "source": [
        "# Set visualization to be plot instead of table\nmy_table.plot = \"line\"\n\n# Set X axis and axis formatting\nmy_table.xaxis = \"Row 1\"\nmy_table.format = \"floatdot1\""
      ]
    },
    {
      "cell_type": "markdown",
      "metadata": {},
      "source": [
        "Properties can also be inspected this way.\n\n\n"
      ]
    },
    {
      "cell_type": "code",
      "execution_count": null,
      "metadata": {
        "collapsed": false
      },
      "outputs": [],
      "source": [
        "print(my_table.type)\n\n# Close the service\n# -----------------\n#\n# Close the Ansys Dynamic Reporting service. The database with the items that\n# were created remains on disk.\n\n# sphinx_gallery_thumbnail_path = '_static/00_create_db_0.png'\nadr_service.stop()"
      ]
    }
  ],
  "metadata": {
    "kernelspec": {
      "display_name": "Python 3",
      "language": "python",
      "name": "python3"
    },
    "language_info": {
      "codemirror_mode": {
        "name": "ipython",
        "version": 3
      },
      "file_extension": ".py",
      "mimetype": "text/x-python",
      "name": "python",
      "nbconvert_exporter": "python",
      "pygments_lexer": "ipython3",
      "version": "3.12.11"
    }
  },
  "nbformat": 4,
  "nbformat_minor": 0
}