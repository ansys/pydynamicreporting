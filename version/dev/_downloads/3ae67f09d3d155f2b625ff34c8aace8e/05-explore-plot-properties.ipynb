{
  "cells": [
    {
      "cell_type": "code",
      "execution_count": null,
      "metadata": {
        "collapsed": false
      },
      "outputs": [],
      "source": [
        "# ``pydynamicreporting`` example Notebook\n#"
      ]
    },
    {
      "cell_type": "markdown",
      "metadata": {},
      "source": [
        "\n\n# Explore plot properties\n\nWhen working with a table, you can turn it into a\nplot by specifying the plot type through the `plot` property.\nThis example demonstrates a variety of the possible plot\nproperties available.\n\n<div class=\"alert alert-info\"><h4>Note</h4><p>This example assumes that you have a local Ansys installation.</p></div>\n\nInitially, create and start a session as per other examples.\n"
      ]
    },
    {
      "cell_type": "markdown",
      "metadata": {},
      "source": [
        "## Start an Ansys Dynamic Reporting service\n\nStart an Ansys Dynamic Reporting service on a new\ndatabase. The path for the database directory must be to an empty directory.\n\n\n"
      ]
    },
    {
      "cell_type": "code",
      "execution_count": null,
      "metadata": {
        "collapsed": false
      },
      "outputs": [],
      "source": [
        "import numpy as np\n\nimport ansys.dynamicreporting.core as adr\n\ndb_dir = \"C:\\\\tmp\\\\new_database\"\nadr_service = adr.Service(db_directory=db_dir)\nsession_guid = adr_service.start(create_db=True)"
      ]
    },
    {
      "cell_type": "markdown",
      "metadata": {},
      "source": [
        "## Create a simple table\n\nStart by creating a simple table and visualizing it. Create a table\nwith 5 columns and 2 rows.\n\n\n"
      ]
    },
    {
      "cell_type": "code",
      "execution_count": null,
      "metadata": {
        "collapsed": false
      },
      "outputs": [],
      "source": [
        "my_table = adr_service.create_item(obj_name=\"Table\")\nmy_table.table_dict[\"rowlbls\"] = [\"Row 1\", \"Row 2\"]\nmy_table.item_table = np.array(\n    [[\"1\", \"2\", \"3\", \"4\", \"5\"], [\"1\", \"4\", \"9\", \"16\", \"25\"]], dtype=\"|S20\"\n)"
      ]
    },
    {
      "cell_type": "markdown",
      "metadata": {},
      "source": [
        "Once you have created a table, set it to be a plot by changing\nits properties, and then you can set other properties.\n\n\n"
      ]
    },
    {
      "cell_type": "code",
      "execution_count": null,
      "metadata": {
        "collapsed": false
      },
      "outputs": [],
      "source": [
        "# Set visualization to be plot instead of table\nmy_table.plot = \"line\"\n\n# Set X axis and axis formatting\nmy_table.xaxis = \"Row 1\"\nmy_table.format = \"floatdot1\""
      ]
    },
    {
      "cell_type": "markdown",
      "metadata": {},
      "source": [
        "## Some rules on properties\n- If a property is not relevant to a plot and it is changed, nothing will happen\n- Plots are not dynamically updated. Subsequent `visualize` calls are needed\n- Plots can have `visualize()` called repeatedly without exhausting the object\n\n\n"
      ]
    },
    {
      "cell_type": "code",
      "execution_count": null,
      "metadata": {
        "collapsed": false
      },
      "outputs": [],
      "source": [
        "my_table.line_color = \"black\"\n# This won't appear on our 2D plot or affect its output\nmy_table.zaxis = \"z-axis\"\nmy_table.visualize()\n\n# Sets the x-axis limits and similar patterns work for yrange and zrange.\nmy_table.xrange = [0, 3]\nmy_table.visualize()"
      ]
    },
    {
      "cell_type": "markdown",
      "metadata": {},
      "source": [
        "## Key properties\nA few key properties are listed below as well as what they do, to get you started.\n\n- `xtitle`, `ytitle`, `ztitle`, `palette_title` - set the axis, and colorbar, labels\n- `xrange`, `yrange, `zrange`, `palette_range` - set the axes amd colorbar limits\n- `plot_title` - set the plot title\n- `line_marker` - set the marker of scatter data, defaults to `circle`.\n- `line_error_bars` - set y-axis error bars. Other axes are not available.\n- `width`, `height` - dimensions of chart in pixels\n\n\n"
      ]
    },
    {
      "cell_type": "code",
      "execution_count": null,
      "metadata": {
        "collapsed": false
      },
      "outputs": [],
      "source": [
        "# Close the service\n# -----------------\n#\n# Close the Ansys Dynamic Reporting service. The database with the items that\n# were created remains on disk.\n\n# sphinx_gallery_thumbnail_path = '_static/00_create_db_0.png'\nadr_service.stop()"
      ]
    }
  ],
  "metadata": {
    "kernelspec": {
      "display_name": "Python 3",
      "language": "python",
      "name": "python3"
    },
    "language_info": {
      "codemirror_mode": {
        "name": "ipython",
        "version": 3
      },
      "file_extension": ".py",
      "mimetype": "text/x-python",
      "name": "python",
      "nbconvert_exporter": "python",
      "pygments_lexer": "ipython3",
      "version": "3.12.12"
    }
  },
  "nbformat": 4,
  "nbformat_minor": 0
}