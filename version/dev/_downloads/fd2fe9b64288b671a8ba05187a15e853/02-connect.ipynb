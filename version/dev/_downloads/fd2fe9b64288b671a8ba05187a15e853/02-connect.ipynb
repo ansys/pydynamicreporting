{
  "cells": [
    {
      "cell_type": "code",
      "execution_count": null,
      "metadata": {
        "collapsed": false
      },
      "outputs": [],
      "source": [
        "# ``pydynamicreporting`` example Notebook\n#"
      ]
    },
    {
      "cell_type": "markdown",
      "metadata": {},
      "source": [
        "\n\n# Connect services\n\nThis example shows how to start an Ansys Dynamic Reporting\nservice via a Docker image, create a second instance of the ``Service``\nclass, and connect it to the already running service. It then shows\nhow to create and modify items in the original database with this\nnew instance.\n\n<div class=\"alert alert-info\"><h4>Note</h4><p>This example assumes that you do not have a local Ansys installation but\n   are starting an Ansys Dynamic Reporting Service via a Docker image on\n   a new database.</p></div>\n"
      ]
    },
    {
      "cell_type": "markdown",
      "metadata": {},
      "source": [
        "## Start an Ansys Dynamic Reporting service\n\nStart an Ansys Dynamic Reporting service via a Docker image on a new\ndatabase. The path for the database directory must be to an empty directory.\n\n"
      ]
    },
    {
      "cell_type": "code",
      "execution_count": null,
      "metadata": {
        "collapsed": false
      },
      "outputs": [],
      "source": [
        "import ansys.dynamicreporting.core as adr\nimport ansys.dynamicreporting.core.examples as examples\n\ndb_dir = r\"C:\\tmp\\new_database\"\nadr_service = adr.Service(ansys_installation=\"docker\", db_directory=db_dir)\nsession_guid = adr_service.start(create_db=True)"
      ]
    },
    {
      "cell_type": "markdown",
      "metadata": {},
      "source": [
        "## Create items\n\nGiven that the Ansys Dynamic Reporting service is running on top\nof an empty database, create a few items in the database and then visualize\nthe default report that shows all these items, one after the other. Note that\nthis code assumes that you have files on disk for the payload of the items.\n\n"
      ]
    },
    {
      "cell_type": "code",
      "execution_count": null,
      "metadata": {
        "collapsed": false
      },
      "outputs": [],
      "source": [
        "my_text = adr_service.create_item(obj_name=\"Text\", source=\"Documentation\")\nmy_text.item_text = \"This is a simple string with no HTML formatting.\"\nmy_animation = adr_service.create_item(obj_name=\"Animation File\", source=\"Documentation\")\nmy_animation.item_animation = examples.download_file(\"dam_break.mp4\", \"input_data\")\nmy_file = adr_service.create_item(obj_name=\"General File\", source=\"Documentation\")\nmy_file.item_file = examples.download_file(\"report_template.json\", \"multi_physics\")\nadr_service.visualize_report()"
      ]
    },
    {
      "cell_type": "markdown",
      "metadata": {},
      "source": [
        "<img src=\"file://_static/01_connect_0.png\">\n\n\n## Create another connected instance\n\nNow that you have a running Ansys Dynamic Reporting service, create a\nsecond instance of the ``Service`` class and use it to\nconnect to the database. Visualize the default report.\n\n"
      ]
    },
    {
      "cell_type": "code",
      "execution_count": null,
      "metadata": {
        "collapsed": false
      },
      "outputs": [],
      "source": [
        "connected_s = adr.Service()\nconnected_s.connect(url=adr_service.url)\nconnected_s.visualize_report()"
      ]
    },
    {
      "cell_type": "markdown",
      "metadata": {},
      "source": [
        "<img src=\"file://_static/01_connect_1.png\">\n\n## Create an item via the connected object\n\nUse the new object for the connected service to create an ``Image`` item.\nVisualize the default report again to verify that this item has been\nadded to the database.\n\n"
      ]
    },
    {
      "cell_type": "code",
      "execution_count": null,
      "metadata": {
        "collapsed": false
      },
      "outputs": [],
      "source": [
        "my_image = connected_s.create_item(obj_name=\"Image\", source=\"Documentation\")\nmy_image.item_image = examples.download_file(\"introduction.png\", \"multi_physics\")\nconnected_s.visualize_report()"
      ]
    },
    {
      "cell_type": "markdown",
      "metadata": {},
      "source": [
        "<img src=\"file://_static/01_connect_3.png\">\n\n## Visualize only items from a session\n\nAssume that you want to visualize only the items that were\ncreated from the connected Ansys Dynamic Reporting session and not the\noriginal instance. To achieve this, you add a filter to the default\nreport visualization. Note that running this method on either of the\nAnsys Dynamic Reporting instances produces the same result.\n\n"
      ]
    },
    {
      "cell_type": "code",
      "execution_count": null,
      "metadata": {
        "collapsed": false
      },
      "outputs": [],
      "source": [
        "adr_service.visualize_report(item_filter=f\"A|s_guid|cont|{connected_s.session_guid}\")"
      ]
    },
    {
      "cell_type": "markdown",
      "metadata": {},
      "source": [
        "## Close the service\n\nClose the Ansys Dynamic Reporting service. The database with the items that\nwere created remains on disk.\n\n"
      ]
    },
    {
      "cell_type": "code",
      "execution_count": null,
      "metadata": {
        "collapsed": false
      },
      "outputs": [],
      "source": [
        "# sphinx_gallery_thumbnail_path = '_static/01_connect_3.png'\nadr_service.stop()"
      ]
    }
  ],
  "metadata": {
    "kernelspec": {
      "display_name": "Python 3",
      "language": "python",
      "name": "python3"
    },
    "language_info": {
      "codemirror_mode": {
        "name": "ipython",
        "version": 3
      },
      "file_extension": ".py",
      "mimetype": "text/x-python",
      "name": "python",
      "nbconvert_exporter": "python",
      "pygments_lexer": "ipython3",
      "version": "3.12.12"
    }
  },
  "nbformat": 4,
  "nbformat_minor": 0
}