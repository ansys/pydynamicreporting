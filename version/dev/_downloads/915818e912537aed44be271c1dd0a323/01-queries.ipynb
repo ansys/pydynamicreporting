{
  "cells": [
    {
      "cell_type": "code",
      "execution_count": null,
      "metadata": {
        "collapsed": false
      },
      "outputs": [],
      "source": [
        "# ``pydynamicreporting`` example Notebook\n#"
      ]
    },
    {
      "cell_type": "markdown",
      "metadata": {},
      "source": [
        "\n\n# Item queries\n\nThe Ansys Dynamic Reporting database can contain any number of items, from a few\nto tens of thousands. To handle all this data, the :func:`queryansys.dynamicreporting.core.Service.query>`\nmethod allows you to quickly slice the database to select a subset of items.\n\n<div class=\"alert alert-info\"><h4>Note</h4><p>This example assumes that you have a local Ansys installation.</p></div>\n"
      ]
    },
    {
      "cell_type": "markdown",
      "metadata": {},
      "source": [
        "## Start an Ansys Dynamic Reporting service\nStart an Ansys Dynamic Reporting service with a new database. The path for the\ndatabase directory must be to an empty directory.\n\n"
      ]
    },
    {
      "cell_type": "code",
      "execution_count": null,
      "metadata": {
        "collapsed": false
      },
      "outputs": [],
      "source": [
        "import ansys.dynamicreporting.core as adr\nimport ansys.dynamicreporting.core.examples as examples\n\nansys_loc = r\"C:\\Program Files\\ANSYS Inc\\v232\"\ndb_dir = r\"C:\\tmp\\new_database\"\nadr_service = adr.Service(ansys_installation=ansys_loc, db_directory=db_dir)\nsession_guid = adr_service.start(create_db=True)"
      ]
    },
    {
      "cell_type": "markdown",
      "metadata": {},
      "source": [
        "## Create items\n\nNow that an Ansys Dynamic Reporting service is running on top of a\nnew database, you can populate it. We will download and push to the database\n14 images.We will then set some different names, sources, and\ntags based on the image names\n\n"
      ]
    },
    {
      "cell_type": "code",
      "execution_count": null,
      "metadata": {
        "collapsed": false
      },
      "outputs": [],
      "source": [
        "variables = [\"enthalpy\", \"statictemperature\"]\nfor v in variables:\n    for i in range(7):\n        if i % 3 == 0:\n            new_image = adr_service.create_item(\n                obj_name=f\"Image {str(i + 1)}\", source=\"Application X\"\n            )\n        elif i % 3 == 1:\n            new_image = adr_service.create_item(\n                obj_name=f\"Image {str(i + 1)}\", source=\"Application Y\"\n            )\n        elif i % 3 == 2:\n            new_image = adr_service.create_item(\n                obj_name=f\"Image {str(i + 1)}\", source=\"Application Z\"\n            )\n        filename = f\"{v}_{str(i + 1).zfill(3)}.png\"\n        new_image.item_image = examples.download_file(filename, \"input_data\")\n        new_image.set_tags(f\"var={v} clip=-{float(i) * 0.01}\")"
      ]
    },
    {
      "cell_type": "markdown",
      "metadata": {},
      "source": [
        "## Query the database\n\nNow that the database is populated with a few items with different\nnames, sources, and tags, query the database, beginning with an empty\nquery that returns the entire set (all 14 items). Next, query on the\nsource name, which results in three different lists, with 6, 4, and 4 items\nrespectively. Query on the ``var`` and ``clip`` taga. See that the lists\nhave the expected length. You can try different queries using other attributes.\n#\n\n"
      ]
    },
    {
      "cell_type": "code",
      "execution_count": null,
      "metadata": {
        "collapsed": false
      },
      "outputs": [],
      "source": [
        "all_items = adr_service.query()\ntest_one = len(all_items) == 14\napp_x = adr_service.query(item_filter=\"A|i_src|cont|Application X\")\napp_y = adr_service.query(item_filter=\"A|i_src|cont|Application Y\")\napp_z = adr_service.query(item_filter=\"A|i_src|cont|Application Z\")\ntest_two = len(app_x) == 6\ntest_three = len(app_y) == len(app_z) == 4\nenthalpy_items = adr_service.query(item_filter=\"A|i_tags|cont|var=enthalpy\")\nstatictemperature_items = adr_service.query(item_filter=\"A|i_tags|cont|var=statictemperature\")\ntest_four = len(enthalpy_items) == len(statictemperature_items) == 7\nclip3_items = adr_service.query(item_filter=\"A|i_tags|cont|clip=-0.03\")\nclip5_items = adr_service.query(item_filter=\"A|i_tags|cont|clip=-0.05\")\ntest_five = len(clip3_items) == len(clip5_items) == 2"
      ]
    },
    {
      "cell_type": "markdown",
      "metadata": {},
      "source": [
        "## Close the service\n\nClose the Ansys Dynamic Reporting service. The database with the items that\nwere created remains on disk.\n\n"
      ]
    },
    {
      "cell_type": "code",
      "execution_count": null,
      "metadata": {
        "collapsed": false
      },
      "outputs": [],
      "source": [
        "# sphinx_gallery_thumbnail_path = '_static/default_thumb.png'\nadr_service.stop()"
      ]
    }
  ],
  "metadata": {
    "kernelspec": {
      "display_name": "Python 3",
      "language": "python",
      "name": "python3"
    },
    "language_info": {
      "codemirror_mode": {
        "name": "ipython",
        "version": 3
      },
      "file_extension": ".py",
      "mimetype": "text/x-python",
      "name": "python",
      "nbconvert_exporter": "python",
      "pygments_lexer": "ipython3",
      "version": "3.12.12"
    }
  },
  "nbformat": 4,
  "nbformat_minor": 0
}