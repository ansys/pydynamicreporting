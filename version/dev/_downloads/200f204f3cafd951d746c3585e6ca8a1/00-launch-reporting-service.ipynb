{
  "cells": [
    {
      "cell_type": "code",
      "execution_count": null,
      "metadata": {
        "collapsed": false
      },
      "outputs": [],
      "source": [
        "# ``pydynamicreporting`` example Notebook\n#"
      ]
    },
    {
      "cell_type": "markdown",
      "metadata": {},
      "source": [
        "\n\n# Launching the Ansys Dynamic Reporting Service\n\nTo launch the service, provide an Ansys installation directory as a string.\nYou can provide an existing, empty, directory if you intend to create a database.\n\n<div class=\"alert alert-info\"><h4>Note</h4><p>This example assumes that you have a local Ansys installation.</p></div>\n"
      ]
    },
    {
      "cell_type": "code",
      "execution_count": null,
      "metadata": {
        "collapsed": false
      },
      "outputs": [],
      "source": [
        "import ansys.dynamicreporting.core as adr\n\ndb_dir = \"C:\\\\tmp\\\\my_local_db_directory\"\nansys_ins = \"C:\\\\Program Files\\\\Ansys Inc\\\\v241\"\n\nadr_service = adr.Service(ansys_installation=ansys_ins, db_directory=db_dir)"
      ]
    },
    {
      "cell_type": "markdown",
      "metadata": {},
      "source": [
        "## Starting the Service\nOnce a `Service` object has been created, it must be started. It can be\nsimilarly stopped.\n\n\n"
      ]
    },
    {
      "cell_type": "code",
      "execution_count": null,
      "metadata": {
        "collapsed": false
      },
      "outputs": [],
      "source": [
        "session_guid = adr_service.start(create_db=True)\n\n# To stop the service\nadr_service.stop()"
      ]
    },
    {
      "cell_type": "markdown",
      "metadata": {},
      "source": [
        "## Connecting to a remote Service\nYou may need to connect to a service that is already running. To do so create\na Service object, as before, but leave off the database argument and this time,\ncall the `connect` method and provide connection details, including any\ncredentials required. If no username and password were set when creating the\ndatabase, you can leave these fields empty and the default values will be\nused.\n\n\n"
      ]
    },
    {
      "cell_type": "code",
      "execution_count": null,
      "metadata": {
        "collapsed": false
      },
      "outputs": [],
      "source": [
        "ansys_ins = r\"C:\\Program Files\\Ansys Inc\\v241\"\nadr_service = adr.Service(ansys_installation=ansys_ins)\nadr_service.connect(url=\"http://localhost:8000\", username=\"user\", password=\"p455w0rd\")\n\n# To stop the service\n# sphinx_gallery_thumbnail_path = '_static/00_create_db_0.png'\nadr_service.stop()"
      ]
    }
  ],
  "metadata": {
    "kernelspec": {
      "display_name": "Python 3",
      "language": "python",
      "name": "python3"
    },
    "language_info": {
      "codemirror_mode": {
        "name": "ipython",
        "version": 3
      },
      "file_extension": ".py",
      "mimetype": "text/x-python",
      "name": "python",
      "nbconvert_exporter": "python",
      "pygments_lexer": "ipython3",
      "version": "3.12.12"
    }
  },
  "nbformat": 4,
  "nbformat_minor": 0
}