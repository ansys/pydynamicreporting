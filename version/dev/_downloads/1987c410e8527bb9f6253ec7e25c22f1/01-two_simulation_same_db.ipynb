{
  "cells": [
    {
      "cell_type": "code",
      "execution_count": null,
      "metadata": {
        "collapsed": false
      },
      "outputs": [],
      "source": [
        "# ``pydynamicreporting`` example Notebook\n#"
      ]
    },
    {
      "cell_type": "markdown",
      "metadata": {},
      "source": [
        "\n\n# Multiple simulations in same database\n\nUse a single database and report template for multiple simluation results.\n\n<div class=\"alert alert-info\"><h4>Note</h4><p>This example assumes that you have a local Ansys installation.</p></div>\n"
      ]
    },
    {
      "cell_type": "markdown",
      "metadata": {},
      "source": [
        "## Start an Ansys Dynamic Reporting service\n\nStart an Ansys Dynamic Reporting service with a new database. The path for the\ndatabase directory must be to an empty directory.\n\n"
      ]
    },
    {
      "cell_type": "code",
      "execution_count": null,
      "metadata": {
        "collapsed": false
      },
      "outputs": [],
      "source": [
        "from random import random as r\n\nimport numpy as np\n\nimport ansys.dynamicreporting.core as adr\nfrom ansys.dynamicreporting.core.utils import report_utils\n\n# Find a random open port for the ADR service\nadr_port = report_utils.find_unused_ports(1)[0]\nadr_service = adr.Service(\n    ansys_installation=r\"C:\\Program Files\\Ansys Inc\\v241\",\n    db_directory=r\"D:\\tmp\\new_db\",\n    port=adr_port,\n)\nsession_guid = adr_service.start(create_db=True)"
      ]
    },
    {
      "cell_type": "markdown",
      "metadata": {},
      "source": [
        "## Set methods for items and report template creation\n\nDefine two methods: one to create items associated with a design point\nsimulation, and a method to create the report template for a simulation\nreport. The first method to create items is mocking what a real\nsimulation would produce: a set of items pushed directly into the\ndatabase. Please note that each item is tagged with the corresponding\ndesign point.\n\n"
      ]
    },
    {
      "cell_type": "code",
      "execution_count": null,
      "metadata": {
        "collapsed": false
      },
      "outputs": [],
      "source": [
        "def create_items(dp=0) -> None:\n    intro_text = adr_service.create_item()\n    intro_text.item_text = \"This section describes the settings for the simulation: initial conditions, solver settings, and such.\"\n    intro_text.set_tags(f\"dp=dp{str(dp)} section=intro\")\n\n    intro_tree = adr_service.create_item()\n    mytree = []\n    mytree.append({\"key\": \"root\", \"name\": \"Solver\", \"value\": \"My Solver\"})\n    mytree.append({\"key\": \"root\", \"name\": \"Number cells\", \"value\": 10e6})\n    mytree.append({\"key\": \"root\", \"name\": \"Mesh Size\", \"value\": \"1.0 mm^3\"})\n    mytree.append({\"key\": \"root\", \"name\": \"Mesh Type\", \"value\": \"Hex8\"})\n    intro_tree.item_tree = mytree\n    intro_tree.set_tags(f\"dp=dp{str(dp)} section=intro\")\n\n    data_table = adr_service.create_item()\n    ics = []\n    ips = []\n    zet = []\n    for i in range(30):\n        ics.append(i / 5.0)\n        ips.append(np.sin((i + 6 * dp) * np.pi / 10.0) + r() * 0.1)\n        zet.append(np.cos((i + 6 * dp) * np.pi / 10.0) + r() * 0.1)\n\n    data_table.item_table = np.array([ics, ips, zet], dtype=\"|S20\")\n    data_table.labels_row = [\"X\", \"Sin\", \"Cos\"]\n    data_table.set_tags(f\"dp=dp{str(dp)} section=data\")\n    data_table.plot = \"line\"\n    data_table.xaxis = \"X\"\n    data_table.yaxis = [\"Sin\", \"Cos\"]\n    data_table.xaxis_format = \"floatdot0\"\n    data_table.yaxis_format = \"floatdot1\"\n    data_table.ytitle = \"Values\"\n    data_table.xtitle = \"X\"\n\n\ndef create_report_template(server=None) -> None:\n    template_1 = server.create_template(\n        name=\"Simulation Report\", parent=None, report_type=\"Layout:basic\"\n    )\n    template_1.params = '{\"HTML\": \"<h1>Simulation Report</h1>\"}'\n    server.put_objects(template_1)\n\n    template_0 = server.create_template(name=\"TOC\", parent=template_1, report_type=\"Layout:toc\")\n    template_0.params = '{\"TOCitems\": 1, \"HTML\": \"<h2>Table of Content</h2>\"}'\n    template_0.set_filter(\"A|i_name|eq|__NonexistantName__;\")\n    server.put_objects(template_0)\n    server.put_objects(template_1)\n\n    template_2 = server.create_template(\n        name=\"Introduction\", parent=template_1, report_type=\"Layout:panel\"\n    )\n    template_2.params = '{\"HTML\": \"<h2>Introduction</h2>\", \"properties\": {\"TOCItem\": \"1\"}}'\n    template_2.set_filter(\"A|i_tags|cont|section=intro;\")\n    server.put_objects(template_2)\n    server.put_objects(template_1)\n\n    template_3 = server.create_template(name=\"Text\", parent=template_2, report_type=\"Layout:basic\")\n    template_3.params = '{\"properties\": {\"TOCItem\": \"0\"}}'\n    template_3.set_filter(\"A|i_type|cont|html,string;\")\n    server.put_objects(template_3)\n    server.put_objects(template_2)\n    server.put_objects(template_1)\n\n    template_4 = server.create_template(name=\"Tree\", parent=template_2, report_type=\"Layout:basic\")\n    template_4.params = '{\"properties\": {\"TOCItem\": \"0\"}}'\n    template_4.set_filter(\"A|i_type|cont|tree;\")\n    server.put_objects(template_4)\n    server.put_objects(template_2)\n    server.put_objects(template_1)\n\n    template_5 = server.create_template(\n        name=\"Results\", parent=template_1, report_type=\"Layout:panel\"\n    )\n    template_5.params = (\n        '{\"HTML\": \"<h2>Results</h2>\\\\nYour simulation results.\", \"properties\": {\"TOCItem\": \"1\"}}'\n    )\n    template_5.set_filter(\"A|i_tags|cont|section=data;\")\n    server.put_objects(template_5)\n    server.put_objects(template_1)"
      ]
    },
    {
      "cell_type": "markdown",
      "metadata": {},
      "source": [
        "## Create items and report template\n\nAssume we have ran the design point dp0. Create the items. Check if the\ndatabase already contains the report template with the method\n:func:`get_list_reports<ansys.dynamicreporting.core.Service.get_list_reports>`.\nIf it doesn't exist, then create it as well.\n\n"
      ]
    },
    {
      "cell_type": "code",
      "execution_count": null,
      "metadata": {
        "collapsed": false
      },
      "outputs": [],
      "source": [
        "create_items(dp=0)\nif \"Simulation Report\" not in adr_service.get_list_reports():\n    create_report_template(server=adr_service.serverobj)"
      ]
    },
    {
      "cell_type": "markdown",
      "metadata": {},
      "source": [
        "## Create items from second simulation\n\nNow assume we separately ran the design point dp1. Connect to the\ncurrently running ADR service and push the new items in the same database.\nCheck if the report template already exists and create it only if it does not.\n\n"
      ]
    },
    {
      "cell_type": "code",
      "execution_count": null,
      "metadata": {
        "collapsed": false
      },
      "outputs": [],
      "source": [
        "new_service = adr.Service(ansys_installation=r\"C:\\Program Files\\Ansys Inc\\v241\")\nnew_service.connect(url=adr_service.url)\ncreate_items(dp=1)\nif \"Simulation Report\" not in new_service.get_list_reports():\n    create_report_template(server=new_service.serverobj)"
      ]
    },
    {
      "cell_type": "markdown",
      "metadata": {},
      "source": [
        "<img src=\"file://_static/01_two_simulation_same_db_0.png\">\n\n## Visualize the report\n\nNow the database contains data from both design point simulations. If you\nwere to simply visualize the report, both simulation results would appear.\nTo avoid that, use a filter to downselect the items to visualize each time.\nSetting the filter to look only at items with tag dp=dp0 will show the\nreport for the first design point. Similarly, filter for tag dp=dp1 will\ndisplay the report for the second design point.\n\n"
      ]
    },
    {
      "cell_type": "code",
      "execution_count": null,
      "metadata": {
        "collapsed": false
      },
      "outputs": [],
      "source": [
        "new_service.visualize_report(report_name=\"Simulation Report\", item_filter=\"A|i_tags|cont|dp0;\")"
      ]
    },
    {
      "cell_type": "markdown",
      "metadata": {},
      "source": [
        "<img src=\"file://_static/01_two_simulation_same_db_1.png\">\n\n## Visualize the report for dp1\n\nVisualize the report for the second design point. See how you only need to\nchange the filter.\n\n"
      ]
    },
    {
      "cell_type": "code",
      "execution_count": null,
      "metadata": {
        "collapsed": false
      },
      "outputs": [],
      "source": [
        "new_service.visualize_report(report_name=\"Simulation Report\", item_filter=\"A|i_tags|cont|dp1;\")"
      ]
    },
    {
      "cell_type": "markdown",
      "metadata": {},
      "source": [
        "## Close the service\n\nClose the Ansys Dynamic Reporting service. The database with the items that\nwere created remains on disk.\n\n"
      ]
    },
    {
      "cell_type": "code",
      "execution_count": null,
      "metadata": {
        "collapsed": false
      },
      "outputs": [],
      "source": [
        "# sphinx_gallery_thumbnail_path = '_static/01_two_simulation_same_db_0.png'\nadr_service.stop()"
      ]
    }
  ],
  "metadata": {
    "kernelspec": {
      "display_name": "Python 3",
      "language": "python",
      "name": "python3"
    },
    "language_info": {
      "codemirror_mode": {
        "name": "ipython",
        "version": 3
      },
      "file_extension": ".py",
      "mimetype": "text/x-python",
      "name": "python",
      "nbconvert_exporter": "python",
      "pygments_lexer": "ipython3",
      "version": "3.13.3"
    }
  },
  "nbformat": 4,
  "nbformat_minor": 0
}