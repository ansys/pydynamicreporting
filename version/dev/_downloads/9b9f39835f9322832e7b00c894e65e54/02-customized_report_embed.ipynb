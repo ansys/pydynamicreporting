{
  "cells": [
    {
      "cell_type": "code",
      "execution_count": null,
      "metadata": {
        "collapsed": false
      },
      "outputs": [],
      "source": [
        "# ``pydynamicreporting`` example Notebook\n#"
      ]
    },
    {
      "cell_type": "markdown",
      "metadata": {},
      "source": [
        "\n\n# Embed report and overwrite styles\n\nApplying the new custom web component ``<adr-report></adr-report>`` as an alternative of\nusing ``<iframe></iframe>`` to fetch and embed a report in the external web application.\n\n<div class=\"alert alert-info\"><h4>Note</h4><p>This example assumes that you have a local Ansys installation with a version v251 or\n   beyond. For this feature, as of **25R1**, **Panel** and **Tabs** are the only layout\n   templates available for style overwrite, more templates will be included in the\n   future release.</p></div>\n"
      ]
    },
    {
      "cell_type": "markdown",
      "metadata": {},
      "source": [
        "## Start an Ansys Dynamic Reporting service\n\nStart an Ansys Dynamic Reporting service using an existing database that has\nat least 1 report template being defined.\n\n"
      ]
    },
    {
      "cell_type": "markdown",
      "metadata": {},
      "source": [
        "<div class=\"alert alert-info\"><h4>Note</h4><p>The code here to start an ADR service and the following Python code to initiate\n  a **Flask** server should all be put together in the ``app.py`` file. The\n  file structure of this example is demonstrated at the end of the tutorial.</p></div>\n\n"
      ]
    },
    {
      "cell_type": "code",
      "execution_count": null,
      "metadata": {
        "collapsed": false
      },
      "outputs": [],
      "source": [
        "from random import random as r\n\nimport numpy as np\n\nimport ansys.dynamicreporting.core as adr\nfrom ansys.dynamicreporting.core.utils import report_utils\n\n# Find a random open port for the ADR service & define the ADR root domain\nadr_port = report_utils.find_unused_ports(1)[0]\nroot = f\"http://127.0.0.1:{adr_port}/\"\n\n# start an ADR server\nadr_service = adr.Service(\n    # (installation version should be >= v251)\n    ansys_installation=r\"C:\\Program Files\\ANSYS Inc\\v251\",\n    # Unlike previous examples, the db_directory MUST have an existing database in it\n    db_directory=r\"D:\\tmp\\new_db\",\n    port=adr_port,\n)\n\nadr_service.start()\n\n# Select report based upon the matched report name\nmy_report = adr_service.get_report(report_name=\"Top Level Report\")"
      ]
    },
    {
      "cell_type": "markdown",
      "metadata": {},
      "source": [
        "## Set up proxy server\n\nApplying the custom web component to tunnel the report over to the external web\napp requires additional server settings to bypass potential **cross-origin\nresource sharing (CORS) error**. See below diagram illustrating the CORS error\nprocess:\n\n"
      ]
    },
    {
      "cell_type": "markdown",
      "metadata": {},
      "source": [
        ".. figure:: /_static/02_customized_report_embed_0.png\n\n   *By default, browsers will block requests from the client side towards the server side of a different domain*\n\n"
      ]
    },
    {
      "cell_type": "markdown",
      "metadata": {},
      "source": [
        "To resolve the CORS error, instead of sending requests from the client side,\nusing the server that powers the external web app to proxy the requests.\nAdding **3 types of REST calls** reroute settings to set up the proxy server:\n\n"
      ]
    },
    {
      "cell_type": "markdown",
      "metadata": {},
      "source": [
        "* Reroute **GET** Request to the main ADR report page (for HTML content)\n* Reroute **GET** Request to access the ADR report's **static** files\n* Reroute **GET** Request to access the ADR report's **media** files\n\n"
      ]
    },
    {
      "cell_type": "markdown",
      "metadata": {},
      "source": [
        "The below diagram illustrates the proxy server concept to bypass CORS error:\n\n"
      ]
    },
    {
      "cell_type": "markdown",
      "metadata": {},
      "source": [
        ".. figure:: /_static/02_customized_report_embed_1.png\n\n   *Bypass the CORS error by using the app server to proxy the request*\n\n"
      ]
    },
    {
      "cell_type": "markdown",
      "metadata": {},
      "source": [
        "This example is using **Flask** as the backend framework, but the same concept\nis applicable to other backend structures such as Node.js.\n\n"
      ]
    },
    {
      "cell_type": "markdown",
      "metadata": {},
      "source": [
        "<div class=\"alert alert-info\"><h4>Note</h4><p>Using **Flask** as the backend framework to set up proxy will serve the static\n  assets like CSS, JS files in its \"static\" directory, the GET request to ADR's\n  static assets may cause request conflicts (same for requesting \"media\" files).\n\n  Therefore, the below code example includes rewriting request for \"static\" files\n  and \"media\" files to avoid such conflicts, please refer to the **highlighted\n  code block**.</p></div>\n\n"
      ]
    },
    {
      "cell_type": "markdown",
      "metadata": {},
      "source": [
        ".. code-block:: python\n   :emphasize-lines: 10,11,12,13,14,15,16,17,18,19,20,21,22,23,24\n\n    from flask import Flask, Response, redirect, request  # noqa: F811, E402\n    from requests import get  # noqa: F811, E402\n\n     # init Flask app\n     app = Flask(__name__)\n\n     # Flask serves its own static files from \"/static/\"\" directory by default, to avoid conflicts occur while getting\n     # report's \"static\" files, intercept the GET request and rewrite the route from \"/static/\" to \"/adr_static/\"...\n     # if the given patterns match (*Do the route rewrite for media files too)\n     @app.before_request\n     def intercept_request():\n         # rewrite GET request path to ADR \"static\" files if the given pattern(s) match(es)\n         if (\n             request.path.startswith(\"/static/website/content\")\n             or request.path.startswith(\"/static/website/scripts\")\n             or request.path.startswith(\"/static/ansys\")\n         ):\n             static_path = request.path.replace(\"/static/\", \"/adr_static/\", 1)\n             return redirect(static_path)\n\n         # rewrite GET request path to ADR \"media\" files if the given pattern(s) match(es)\n         if request.path.startswith(\"/media/\"):\n             static_path = request.path.replace(\"/media/\", \"/adr_media/\", 1)\n             return redirect(static_path)\n\n     # reroute GET request path with a pattern of \"/report/...\" to main report HTML page\n     @app.route(\"/report/<path:subpath>\", methods=[\"GET\"])\n     def proxy_core(subpath):\n         subpath = subpath.split(\"/\")\n         # Construct the target URL for request reroute to get the report page HTML\n         target_url = f\"{root}/reports/report_display/?report_table_length=10&view={subpath[0]}&usemenus=on&dpi=120&pwidth=12.80&query={subpath[1]}\"\n         resp = get(target_url)\n         return Response(resp.content, content_type=resp.headers[\"Content-Type\"])\n\n     # reroute GET request path with a pattern of \"/adr_static/...\" to access report \"static\" files\n     @app.route(\"/adr_static/<path:subpath>\", methods=[\"GET\"])\n     def proxy_static(subpath):\n         # Construct the target URL for request reroute to get the report static files\n         static_url = f\"{root}/static/{subpath}\"\n         resp = get(static_url)\n         return Response(resp.content, content_type=resp.headers[\"Content-Type\"])\n\n     # reroute GET request path with a pattern of \"/adr_media/...\" to access report \"media\" files\n     @app.route(\"/adr_media/<path:subpath>\", methods=[\"GET\"])\n     def proxy_media(subpath):\n         # Construct the target URL for request reroute to get the report media files\n         media_url = f\"{root}/media/{subpath}\"\n         resp = get(media_url)\n         return Response(resp.content, content_type=resp.headers[\"Content-Type\"])\n\n\n"
      ]
    },
    {
      "cell_type": "markdown",
      "metadata": {},
      "source": [
        "## HTML structure and report style overwrite\n\nThe following code snippet is a basic HTML structure in the ``index.html``\nfile to serve the web component, its script, and the style sheet for style\noverwrite (if any). For reference, here is the file structure of this example:\n\n"
      ]
    },
    {
      "cell_type": "markdown",
      "metadata": {},
      "source": [
        ".. code::\n\n   example_root /\n      \u251c\u2500\u2500 app.py (start an ADR service & initi Flask proxy server)\n      \u251c\u2500\u2500 static / style.css\n      \u251c\u2500\u2500 templates / index.html\n\n\n"
      ]
    },
    {
      "cell_type": "markdown",
      "metadata": {},
      "source": [
        "<div class=\"alert alert-info\"><h4>Note</h4><p>The CSS stylesheet to overwrite report styles should be added as a ``<link>`` tag\n  inside the ``<head></head>`` section of the HTML file. The ``href`` attribute\n  of the ``<link>`` tag displays the CSS file path, which should then be passed as\n  the value of the ``style_path`` argument in the\n  :func:`get_report_component(style_path=\"...\")<ansys.dynamicreporting.core.Report.get_report_component>`\n  in order to overwrite the styles.</p></div>\n\n"
      ]
    },
    {
      "cell_type": "markdown",
      "metadata": {},
      "source": [
        ".. code-block:: html\n   :emphasize-lines: 8\n\n     <!DOCTYPE html>\n     <html lang=\"en\">\n       <head>\n         <meta charset=\"UTF-8\">\n         <meta name=\"viewport\" content=\"width=device-width, initial-scale=1.0\">\n         <title>Document</title>\n         <!-- external CSS file for style overwrite -->\n         <link rel=\"stylesheet\" href=\"{{ url_for('static', filename='style.css') }}\">\n       </head>\n       <body>\n         <!-- <adr-report> web component generated by PyADR API from the backend -->\n         <main id=\"dash-container\">\n            {{ custom_html_element | safe }}\n         </main>\n\n         <!-- <adr-report> web component <script> define generated by PyADR API from the backend -->\n         <script type=\"text/javascript\">\n            {{ inline_js | safe }}\n         </script>\n       </body>\n     </html>\n\n\n\n"
      ]
    },
    {
      "cell_type": "markdown",
      "metadata": {},
      "source": [
        "## Initiate web component to embed the report\n\nAt this point, all the essential server settings have been included, now it's time\nto add the custom web component and its script in the external web app by PyADR\nmethod :func:`get_report_component<ansys.dynamicreporting.core.Report.get_report_component>`\nand :func:`get_report_script<ansys.dynamicreporting.core.Report.get_report_script>`.\nAs mentioned above, if a CSS file has been included for style overwrite, the file path\nshould be passed in the ``style_path`` argument of the ``get_report_component`` method.\n\n"
      ]
    },
    {
      "cell_type": "markdown",
      "metadata": {},
      "source": [
        ".. code-block:: python\n   :emphasize-lines: 13\n\n    from flask import render_template, url_for  # noqa: F811, E402\n\n    # root domain\n    @app.route(\"/\")\n    def index():\n        return render_template(\n            \"index.html\",\n            # inject the report fetch web component html\n            custom_html_element = my_report.get_report_component(\n                # Prefix of the proxy request to main report HTML content\n                prefix = \"report\",\n                # Optional argument for style overwrite (Using external CSS file)\n                style_path = url_for(\"static\", filename = \"style.css\"),\n            ),\n            # inject the report fetch web component script logic\n            inline_js = my_report.get_report_script(),\n    )\n\n    # Run the Flask server at port 5000\n    if __name__ == \"__main__\":\n        app.run(host = \"127.0.0.1\", port = 5000)\n\n\n"
      ]
    },
    {
      "cell_type": "markdown",
      "metadata": {},
      "source": [
        "The below screenshot demonstrates the simple style overwrite result for report's\n**panel** layouts.\n\n"
      ]
    },
    {
      "cell_type": "markdown",
      "metadata": {},
      "source": [
        ".. figure:: /_static/02_customized_report_embed_2.png\n\n   *A screenshot of report style overwrite for the Panel layouts*\n\n"
      ]
    },
    {
      "cell_type": "markdown",
      "metadata": {},
      "source": [
        "## Close the service\n\nClose the Ansys Dynamic Reporting service. The database with the items that\nwere created remains on disk. To stop the Flask server in this example,\na ``Keyboardinterrupt`` like (Ctrl + C) will shut down the server.\n\n"
      ]
    },
    {
      "cell_type": "code",
      "execution_count": null,
      "metadata": {
        "collapsed": false
      },
      "outputs": [],
      "source": [
        "# sphinx_gallery_thumbnail_path = '_static/00_complete_report_0.png'\nadr_service.stop()"
      ]
    }
  ],
  "metadata": {
    "kernelspec": {
      "display_name": "Python 3",
      "language": "python",
      "name": "python3"
    },
    "language_info": {
      "codemirror_mode": {
        "name": "ipython",
        "version": 3
      },
      "file_extension": ".py",
      "mimetype": "text/x-python",
      "name": "python",
      "nbconvert_exporter": "python",
      "pygments_lexer": "ipython3",
      "version": "3.12.12"
    }
  },
  "nbformat": 4,
  "nbformat_minor": 0
}