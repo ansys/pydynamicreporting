{
  "cells": [
    {
      "cell_type": "code",
      "execution_count": null,
      "metadata": {
        "collapsed": false
      },
      "outputs": [],
      "source": [
        "# ``pydynamicreporting`` example Notebook\n#"
      ]
    },
    {
      "cell_type": "markdown",
      "metadata": {},
      "source": [
        "\n\n# Tagging\n\nTagging is an important feature of Ansys Dynamic Reporting. Adding tags to items\nallows the database to organize them and the templates to create reports in\na precise and effective manner. This example shows how to add, modify, query,\nand delete tags on items.\n\n<div class=\"alert alert-info\"><h4>Note</h4><p>This example assumes that you have a local Ansys installation.</p></div>\n"
      ]
    },
    {
      "cell_type": "markdown",
      "metadata": {},
      "source": [
        "## Start an Ansys Dynamic Reporting service\n\nStart an Ansys Dynamic Reporting service with a new database. The path for the\ndatabase directory must be to an empty directory.\n\n"
      ]
    },
    {
      "cell_type": "code",
      "execution_count": null,
      "metadata": {
        "collapsed": false
      },
      "outputs": [],
      "source": [
        "import ansys.dynamicreporting.core as adr\n\nansys_loc = r\"C:\\Program Files\\ANSYS Inc\\v232\"\ndb_dir = r\"C:\\tmp\\new_database\"\nadr_service = adr.Service(ansys_installation=ansys_loc, db_directory=db_dir)\nsession_guid = adr_service.start(create_db=True)"
      ]
    },
    {
      "cell_type": "markdown",
      "metadata": {},
      "source": [
        "## Create an item and tag it\n\nNow that an Ansys Dynamic Reporting service is running on top of a new\ndatabase, create an item and set some tags on it. Use the\n:func:`get_tags<ansys.dynamicreporting.core.Item.get_tags>` method to\nsee the values of the tags.\n\n"
      ]
    },
    {
      "cell_type": "code",
      "execution_count": null,
      "metadata": {
        "collapsed": false
      },
      "outputs": [],
      "source": [
        "my_text = adr_service.create_item()\nmy_text.item_text = \"<h1>Analysis Title</h1>This is the first of many items\"\nmy_text.set_tags(\"var=pressure time=0.34\")\nmy_text.get_tags()"
      ]
    },
    {
      "cell_type": "markdown",
      "metadata": {},
      "source": [
        "## Modify the tags\n\nOnce the tags have been set, you can add or delete to them. Use the\n:func:`get_tags<ansys.dynamicreporting.core.Item.get_tags>` method\nto verify that the new value of the tags is the expected ``var=pressure dp=3``.\n\n"
      ]
    },
    {
      "cell_type": "code",
      "execution_count": null,
      "metadata": {
        "collapsed": false
      },
      "outputs": [],
      "source": [
        "my_text.add_tag(tag=\"dp\", value=\"3\")\nmy_text.rem_tag(\"time\")\nmy_text.get_tags()"
      ]
    },
    {
      "cell_type": "markdown",
      "metadata": {},
      "source": [
        "## Query items based on tag values\n\nAdd a couple of other items and tag them. Then, query the database\nfor items that have a specific tag set on them. Given the preceding\ncode, this results in only two items. See the contents of the ``dp3_items``\nlist.\n\n"
      ]
    },
    {
      "cell_type": "code",
      "execution_count": null,
      "metadata": {
        "collapsed": false
      },
      "outputs": [],
      "source": [
        "my_second_text = adr_service.create_item()\nmy_second_text.item_text = \"<h1>Second Text</h1>Second text item\"\nmy_second_text.set_tags(\"var=temperature dp=3\")\nmy_thid_text = adr_service.create_item()\nmy_thid_text.item_text = \"<h1>Third Text</h1>An other item\"\nmy_thid_text.set_tags(\"var=temperature dp=2\")\ndp3_items = adr_service.query(item_filter=\"A|i_tags|cont|dp=3\")"
      ]
    },
    {
      "cell_type": "markdown",
      "metadata": {},
      "source": [
        "## Close the service\n\nClose the Ansys Dynamic Reporting service. The database with the items that\nwere created remains on disk.\n\n"
      ]
    },
    {
      "cell_type": "code",
      "execution_count": null,
      "metadata": {
        "collapsed": false
      },
      "outputs": [],
      "source": [
        "# sphinx_gallery_thumbnail_path = '_static/default_thumb.png'\nadr_service.stop()"
      ]
    }
  ],
  "metadata": {
    "kernelspec": {
      "display_name": "Python 3",
      "language": "python",
      "name": "python3"
    },
    "language_info": {
      "codemirror_mode": {
        "name": "ipython",
        "version": 3
      },
      "file_extension": ".py",
      "mimetype": "text/x-python",
      "name": "python",
      "nbconvert_exporter": "python",
      "pygments_lexer": "ipython3",
      "version": "3.12.12"
    }
  },
  "nbformat": 4,
  "nbformat_minor": 0
}