{
  "cells": [
    {
      "cell_type": "code",
      "execution_count": null,
      "metadata": {
        "collapsed": false
      },
      "outputs": [],
      "source": [
        "# ``pydynamicreporting`` example Notebook\n#"
      ]
    },
    {
      "cell_type": "markdown",
      "metadata": {},
      "source": [
        "\n\n# Creating report templates\n\nTemplates are used to specify how the final report will be organised. They\ncan be nested to describe the layout of subsections in greater detail.\n\n<div class=\"alert alert-info\"><h4>Note</h4><p>This example assumes that you have a local Ansys installation.</p></div>\n\nInitially, create and start a session as per other examples.\n"
      ]
    },
    {
      "cell_type": "markdown",
      "metadata": {},
      "source": [
        "## Start an Ansys Dynamic Reporting service\n\nStart an Ansys Dynamic Reporting service on a new\ndatabase. The path for the database directory must be to an empty directory.\nGet the serverobj property from the service. This property will be used to create the\ntemplate.\n\n\n"
      ]
    },
    {
      "cell_type": "code",
      "execution_count": null,
      "metadata": {
        "collapsed": false
      },
      "outputs": [],
      "source": [
        "import ansys.dynamicreporting.core as adr\n\ndb_dir = \"C:\\\\tmp\\\\my_local_db_directory\"\nansys_ins = \"C:\\\\Program Files\\\\Ansys Inc\\\\v241\"\nadr_service = adr.Service(ansys_installation=ansys_ins, db_directory=db_dir)\nsession_guid = adr_service.start(create_db=True)\nserver = adr_service.serverobj"
      ]
    },
    {
      "cell_type": "markdown",
      "metadata": {},
      "source": [
        "### Create a template\nThe template is a plan of how ADR items will be presented in the final report.\nThe contents of sections is specified by filters that query the tags of items\nin the database.\n\n\n"
      ]
    },
    {
      "cell_type": "code",
      "execution_count": null,
      "metadata": {
        "collapsed": false
      },
      "outputs": [],
      "source": [
        "template_0 = server.create_template(name=\"My Report\", parent=None, report_type=\"Layout:basic\")\n\nserver.put_objects(template_0)"
      ]
    },
    {
      "cell_type": "markdown",
      "metadata": {},
      "source": [
        "### Nesting templates\nTemplates can be nested to describe layouts within a section, with the topmost template\nbeing the report itself.\n\nFilters are composed of strings in a common format. The format is explained in more detail\non this page [Query Expressions](https://ansyshelp.ansys.com/public/account/secured?returnurl=/Views/Secured/corp/v251/en/adr_ug/adr_ug_query_expressions.html?q=query%20expression).\n\n\n"
      ]
    },
    {
      "cell_type": "code",
      "execution_count": null,
      "metadata": {
        "collapsed": false
      },
      "outputs": [],
      "source": [
        "template_1 = server.create_template(name=\"Intro\", parent=template_0, report_type=\"Layout:panel\")\ntemplate_1.set_filter(\"A|i_type|cont|html,string;\")\n\nserver.put_objects(template_1)\nserver.put_objects(template_0)\ntemplate_2 = server.create_template(name=\"Plot\", parent=template_0, report_type=\"Layout:panel\")\ntemplate_2.set_filter(\"A|i_type|cont|table;\")\n\nserver.put_objects(template_2)\nserver.put_objects(template_0)\n\n# Close the service\n# -----------------\n#\n# Close the Ansys Dynamic Reporting service. The database with the items that\n# were created remains on disk.\n\n# sphinx_gallery_thumbnail_path = '_static/00_create_db_0.png'\nadr_service.stop()"
      ]
    }
  ],
  "metadata": {
    "kernelspec": {
      "display_name": "Python 3",
      "language": "python",
      "name": "python3"
    },
    "language_info": {
      "codemirror_mode": {
        "name": "ipython",
        "version": 3
      },
      "file_extension": ".py",
      "mimetype": "text/x-python",
      "name": "python",
      "nbconvert_exporter": "python",
      "pygments_lexer": "ipython3",
      "version": "3.13.3"
    }
  },
  "nbformat": 4,
  "nbformat_minor": 0
}