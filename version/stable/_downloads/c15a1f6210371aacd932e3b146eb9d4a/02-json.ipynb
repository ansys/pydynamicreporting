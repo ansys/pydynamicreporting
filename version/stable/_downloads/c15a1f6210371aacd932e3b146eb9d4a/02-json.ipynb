{
  "cells": [
    {
      "cell_type": "code",
      "execution_count": null,
      "metadata": {
        "collapsed": false
      },
      "outputs": [],
      "source": [
        "# ``pydynamicreporting`` example Notebook\n#"
      ]
    },
    {
      "cell_type": "markdown",
      "metadata": {},
      "source": [
        "\n\n# Import or export report template using JSON\n\nAnsys Dynamic Reporting provides a seamless solution for serializing and\ndeserializing report templates. It allows you to export templates as local\nJSON files and rebuild them through JSON imports. This section describes\nthe process of converting a report template and loading it back in.\n\n<div class=\"alert alert-info\"><h4>Note</h4><p>This example assumes that you have a local Ansys installation.</p></div>\n"
      ]
    },
    {
      "cell_type": "markdown",
      "metadata": {},
      "source": [
        "## Start a new Ansys Dynamic Reporting service\n\nStart a new ADR service. Make sure the database directory is empty. Use the get_list_report\nmethod to check that there are no reports in the database.\n\n"
      ]
    },
    {
      "cell_type": "code",
      "execution_count": null,
      "metadata": {
        "collapsed": false
      },
      "outputs": [],
      "source": [
        "import ansys.dynamicreporting.core as adr\nimport ansys.dynamicreporting.core.examples as examples\n\nadr_service = adr.Service(\n    ansys_installation=r\"C:\\Program Files\\ANSYS Inc\\v251\", db_directory=r\"C:\\tmp\\new_template\"\n)\nadr_service.start(create_db=True)\nadr_service.get_list_reports()"
      ]
    },
    {
      "cell_type": "markdown",
      "metadata": {},
      "source": [
        "## Create a new report template from the JSON file\n\nDownload a JSON sample file for the report templates. Load it into the ADR service.\nCheck that the ADR service now contains a report. Visualize it.\n\n"
      ]
    },
    {
      "cell_type": "code",
      "execution_count": null,
      "metadata": {
        "collapsed": false
      },
      "outputs": [],
      "source": [
        "template_path = examples.download_file(\"report_template.json\", \"multi_physics\")\nadr_service.load_templates(template_path)\nadr_service.get_list_reports()\nnew_report = adr_service.get_report(\"Solution Analysis from Multiphysics simulation\")\nnew_report.visualize()"
      ]
    },
    {
      "cell_type": "markdown",
      "metadata": {},
      "source": [
        "<img src=\"file://_static/report_json_vis.png\" scale=\"50%\">\n\n## Modify and export the report template\n\nAdd a new chapter to the report template using the low level API. Export the new JSON\nfile corresponding to the changed report, and visualize it. Note the extra chapter in\nthe Table Of Contents, corresponding to the change you just made.\n\n"
      ]
    },
    {
      "cell_type": "code",
      "execution_count": null,
      "metadata": {
        "collapsed": false
      },
      "outputs": [],
      "source": [
        "server = adr_service.serverobj\nnew_chapter = server.create_template(\n    name=\"Appendix\", parent=new_report.report, report_type=\"Layout:basic\"\n)\nnew_chapter.params = '{\"TOCitems\": 1, \"HTML\": \"<h3>Appendix</h3>\", \"properties\": {\"TOCItem\": \"1\", \"TOCLevel\": \"0\", \"justification\": \"left\"}}'\nnew_chapter.set_filter(\"A|i_tags|cont|section=appendix;\")\nserver.put_objects(new_chapter)\nserver.put_objects(new_report.report)\nnew_report.visualize()\n\nnew_report.export_json(\"modified_report.json\")"
      ]
    },
    {
      "cell_type": "markdown",
      "metadata": {},
      "source": [
        "<img src=\"file://_static/export_json_vis.png\" scale=\"50%\">\n\n<div class=\"alert alert-info\"><h4>Note</h4><p>If the name of the loaded report conflicts with an existing name in the service\n   (for example, when reloading the same report as in the previous step), Ansys Dynamic\n   Reporting automatically renames the loaded report. In this case, the report will be\n   renamed to \"my_report_name (1)\".</p></div>\n\n"
      ]
    },
    {
      "cell_type": "markdown",
      "metadata": {},
      "source": [
        "## Close the service\n\nClose the Ansys Dynamic Reporting service. The database with the report\ntemplate that was created remains on disk.\n\n"
      ]
    },
    {
      "cell_type": "code",
      "execution_count": null,
      "metadata": {
        "collapsed": false
      },
      "outputs": [],
      "source": [
        "# sphinx_gallery_thumbnail_path = '_static/default_thumb.png'\nadr_service.stop()"
      ]
    }
  ],
  "metadata": {
    "kernelspec": {
      "display_name": "Python 3",
      "language": "python",
      "name": "python3"
    },
    "language_info": {
      "codemirror_mode": {
        "name": "ipython",
        "version": 3
      },
      "file_extension": ".py",
      "mimetype": "text/x-python",
      "name": "python",
      "nbconvert_exporter": "python",
      "pygments_lexer": "ipython3",
      "version": "3.12.11"
    }
  },
  "nbformat": 4,
  "nbformat_minor": 0
}