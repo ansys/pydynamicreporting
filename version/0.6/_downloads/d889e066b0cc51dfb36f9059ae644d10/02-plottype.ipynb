{
  "cells": [
    {
      "cell_type": "code",
      "execution_count": null,
      "metadata": {
        "collapsed": false
      },
      "outputs": [],
      "source": [
        "# ``pydynamicreporting`` example Notebook\n#"
      ]
    },
    {
      "cell_type": "markdown",
      "metadata": {},
      "source": [
        "\n\n# Plot types\n\nThis example shows how to start an Ansys Dynamic Reporting\nservice via a Docker image and create different plot items.\nThe example focuses on showing how to use the API to generate\ndifferent plot types.\n\n<div class=\"alert alert-info\"><h4>Note</h4><p>This example assumes that you do not have a local Ansys installation but\n   are starting an Ansys Dynamic Reporting Service via a Docker image on\n   a new database.</p></div>\n"
      ]
    },
    {
      "cell_type": "markdown",
      "metadata": {},
      "source": [
        "## Start an Ansys Dynamic Reporting service\n\nStart an Ansys Dynamic Reporting service via a Docker image on a new\ndatabase. The path for the database directory must be to an empty directory.\n\n"
      ]
    },
    {
      "cell_type": "code",
      "execution_count": null,
      "metadata": {
        "collapsed": false
      },
      "outputs": [],
      "source": [
        "import numpy as np\n\nimport ansys.dynamicreporting.core as adr\n\ndb_dir = r\"C:\\tmp\\new_database\"\nadr_service = adr.Service(ansys_installation=\"docker\", db_directory=db_dir)\nsession_guid = adr_service.start(create_db=True)"
      ]
    },
    {
      "cell_type": "markdown",
      "metadata": {},
      "source": [
        "## Create a simple table\n\nLet us start by creating a simple table and visualizing it. Create a table\nwith 5 columns and 3 rows.\n\n"
      ]
    },
    {
      "cell_type": "code",
      "execution_count": null,
      "metadata": {
        "collapsed": false
      },
      "outputs": [],
      "source": [
        "simple_table = adr_service.create_item(obj_name=\"Simple Table\", source=\"Documentation\")\nsimple_table.item_table = np.array(\n    [[0, 1, 2, 3, 4], [0, 3, 6, 9, 12], [0, 1, 4, 9, 16]], dtype=\"|S20\"\n)\nsimple_table.labels_row = [\"X\", \"line\", \"square\"]"
      ]
    },
    {
      "cell_type": "markdown",
      "metadata": {},
      "source": [
        "You can use the labels_row attribute to set the row labels. Use the visualize\nmethod on the object to see its representation. By default, it will be displayed\nas a table\n\n"
      ]
    },
    {
      "cell_type": "code",
      "execution_count": null,
      "metadata": {
        "collapsed": false
      },
      "outputs": [],
      "source": [
        "simple_table.visualize()"
      ]
    },
    {
      "cell_type": "markdown",
      "metadata": {},
      "source": [
        "<img src=\"file://_static/simpletable.png\">\n\n## Visualize as a line plot\n\nLet us know create a new item that is the same as the previous simple table,\nbut this time we will set the plot attribute to line to visualize the values\nas two line plots, and we will use the xaxis attribute to set which row should\nbe used as the X axis. We can also control the formatting and the title of the\naxis separately with the *axis_format and *title attributes, as done below.\nThe result can be seen in the following image.\n\n"
      ]
    },
    {
      "cell_type": "code",
      "execution_count": null,
      "metadata": {
        "collapsed": false
      },
      "outputs": [],
      "source": [
        "line_plot = adr_service.create_item(obj_name=\"Line Plot\", source=\"Documentation\")\nline_plot.item_table = np.array([[0, 1, 2, 3, 4], [0, 3, 6, 9, 12], [0, 1, 4, 9, 16]], dtype=\"|S20\")\nline_plot.labels_row = [\"X\", \"line\", \"square\"]\nline_plot.plot = \"line\"\nline_plot.xaxis = \"X\"\nline_plot.yaxis_format = \"floatdot0\"\nline_plot.xaxis_format = \"floatdot1\"\nline_plot.xtitle = \"x\"\nline_plot.ytitle = \"f(x)\"\nline_plot.visualize()"
      ]
    },
    {
      "cell_type": "markdown",
      "metadata": {},
      "source": [
        "<img src=\"file://_static/line_plot.png\">\n\n## Visualize as a bar plot\n\nNext, we will see how to create a bar plot, and decorate it with the same\nattributes used in the previous code snippet. See the following image for\nthe resulting visualization.\n\n"
      ]
    },
    {
      "cell_type": "code",
      "execution_count": null,
      "metadata": {
        "collapsed": false
      },
      "outputs": [],
      "source": [
        "bar_plot = adr_service.create_item(obj_name=\"Bar Plot\", source=\"Documentation\")\nbar_plot.item_table = np.array([[0, 1, 2, 3, 4], [0.3, 0.5, 0.7, 0.6, 0.3]], dtype=\"|S20\")\nbar_plot.plot = \"bar\"\nbar_plot.labels_row = [\"ics\", \"my variable\"]\nbar_plot.xaxis_format = \"floatdot0\"\nbar_plot.yaxis_format = \"floatdot2\"\nbar_plot.xaxis = \"ics\"\nbar_plot.yaxis = \"my variable\"\nbar_plot.visualize()"
      ]
    },
    {
      "cell_type": "markdown",
      "metadata": {},
      "source": [
        "<img src=\"file://_static/bar_plot.png\">\n\n## Visualize a pie chart\n\nNext supported plot type is the pie chart. Please see the following code snippet\nto generate the pie chart as in the following image.\n\n"
      ]
    },
    {
      "cell_type": "code",
      "execution_count": null,
      "metadata": {
        "collapsed": false
      },
      "outputs": [],
      "source": [
        "pie_plot = adr_service.create_item(obj_name=\"Pie Plot\", source=\"Documentation\")\npie_plot.item_table = np.array([[10, 20, 50, 20]], dtype=\"|S20\")\npie_plot.plot = \"pie\"\npie_plot.labels_column = [\"Bar\", \"Triangle\", \"Quad\", \"Penta\"]\npie_plot.visualize()"
      ]
    },
    {
      "cell_type": "markdown",
      "metadata": {},
      "source": [
        "<img src=\"file://_static/pie_plot.png\">\n\n## Visualize a heatmap\n\nHeatmaps are plots where at each (X,Y) position is associated the value of a\nvariable, colored according to a legend. Here the snippet on how to create\na heatmap representation - please note how nan values are also supported,\nresulting in empty cells.\n\n"
      ]
    },
    {
      "cell_type": "code",
      "execution_count": null,
      "metadata": {
        "collapsed": false
      },
      "outputs": [],
      "source": [
        "heatmap = adr_service.create_item(obj_name=\"Heatmap\", source=\"Documentation\")\nheatmap.item_table = np.array(\n    [\n        [0.00291, 0.01306, 0.02153, 0.01306, 0.00291],\n        [0.01306, 0.05854, 0.09653, 0.05854, 0.01306],\n        [0.02153, 0.09653, np.nan, 0.09653, 0.02153],\n        [0.01306, 0.05854, 0.09653, 0.05854, 0.01306],\n        [0.00291, 0.01306, 0.02153, 0.01306, 0.00291],\n    ],\n    dtype=\"|S20\",\n)\nheatmap.plot = \"heatmap\"\nheatmap.format = \"floatdot0\"\nheatmap.visualize()"
      ]
    },
    {
      "cell_type": "markdown",
      "metadata": {},
      "source": [
        "<img src=\"file://_static/heatmap.png\">\n\n## Visualize a parallel coordinate plot\n\nParallel coordinate plots are especially useful when analyzing data coming\nfrom multiple runs. Place in each raw the values of variables for a given\nsimulation. Each column is a different variable. The parallel coordinate\nplot allows you to visualize all this data in a way that stresses\ncorrelations between variables and runs.\n\n"
      ]
    },
    {
      "cell_type": "code",
      "execution_count": null,
      "metadata": {
        "collapsed": false
      },
      "outputs": [],
      "source": [
        "parallel = adr_service.create_item()\nparallel.item_table = np.array(\n    [\n        [54.2, 12.3, 1.45e5],\n        [72.3, 9.3, 4.34e5],\n        [45.4, 10.8, 8.45e4],\n        [67.4, 12.2, 2.56e5],\n        [44.8, 13.5, 9.87e4],\n    ],\n    dtype=\"|S20\",\n)\nparallel.labels_column = [\"Temperature\", \"Max. Pressure\", \"Max. Work\"]\nparallel.plot = \"parallel\"\nparallel.visualize()"
      ]
    },
    {
      "cell_type": "markdown",
      "metadata": {},
      "source": [
        "<img src=\"file://_static/parallel_coord.png\">\n\n## Visualize a Sankey diagram\n\nA Sankey diagram allows you to visualize the relationship between\ndifferent elements. For this reprenstation, place the information\ninside a squared table.\n\n"
      ]
    },
    {
      "cell_type": "code",
      "execution_count": null,
      "metadata": {
        "collapsed": false
      },
      "outputs": [],
      "source": [
        "sankey_plot = adr_service.create_item()\nsankey_plot.item_table = np.array(\n    [\n        [0, 0, 8, 2, 0, 0],\n        [0, 0, 0, 4, 0, 0],\n        [0, 0, 0, 0, 8, 0],\n        [0, 0, 0, 0, 5, 1],\n        [0, 0, 0, 0, 0, 0],\n        [0, 0, 0, 0, 0, 0],\n    ],\n    dtype=\"|S20\",\n)\nsankey_plot.labels_row = [\"A\", \"B\", \"C\", \"D\", \"E\", \"F\"]\nsankey_plot.labels_column = [\"A\", \"B\", \"C\", \"D\", \"E\", \"F\"]\nsankey_plot.plot = \"sankey\"\nsankey_plot.visualize()"
      ]
    },
    {
      "cell_type": "markdown",
      "metadata": {},
      "source": [
        "<img src=\"file://_static/sankey.png\">\n\n## Close the service\n\nClose the Ansys Dynamic Reporting service. The database with the items that\nwere created remains on disk.\n\n"
      ]
    },
    {
      "cell_type": "code",
      "execution_count": null,
      "metadata": {
        "collapsed": false
      },
      "outputs": [],
      "source": [
        "# sphinx_gallery_thumbnail_path = '_static/01_connect_3.png'\nadr_service.stop()"
      ]
    }
  ],
  "metadata": {
    "kernelspec": {
      "display_name": "Python 3",
      "language": "python",
      "name": "python3"
    },
    "language_info": {
      "codemirror_mode": {
        "name": "ipython",
        "version": 3
      },
      "file_extension": ".py",
      "mimetype": "text/x-python",
      "name": "python",
      "nbconvert_exporter": "python",
      "pygments_lexer": "ipython3",
      "version": "3.10.14"
    }
  },
  "nbformat": 4,
  "nbformat_minor": 0
}