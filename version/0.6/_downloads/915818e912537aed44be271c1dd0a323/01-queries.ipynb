{
  "cells": [
    {
      "cell_type": "code",
      "execution_count": null,
      "metadata": {
        "collapsed": false
      },
      "outputs": [],
      "source": [
        "# ``pydynamicreporting`` example Notebook\n#"
      ]
    },
    {
      "cell_type": "markdown",
      "metadata": {},
      "source": [
        "\n\n# Item queries\n\nThe Ansys Dynamic Reporting database can contain any number of items, from a few\nto tens of thousands. To handle all this data, the :func:`queryansys.dynamicreporting.core.Service.query>`\nmethod allows you to quickly slice the database to select a subset of items.\n\n<div class=\"alert alert-info\"><h4>Note</h4><p>This example assumes that you have a local Ansys installation.</p></div>\n"
      ]
    },
    {
      "cell_type": "markdown",
      "metadata": {},
      "source": [
        "## Start an Ansys Dynamic Reporting service\nStart an Ansys Dynamic Reporting service with a new database. The path for the\ndatabase directory must be to an empty directory.\n\n"
      ]
    },
    {
      "cell_type": "code",
      "execution_count": null,
      "metadata": {
        "collapsed": false
      },
      "outputs": [],
      "source": [
        "import ansys.dynamicreporting.core as adr\n\nansys_loc = r\"C:\\Program Files\\ANSYS Inc\\v232\"\ndb_dir = r\"C:\\tmp\\new_database\"\nadr_service = adr.Service(ansys_installation=ansys_loc, db_directory=db_dir)\nsession_guid = adr_service.start(create_db=True)"
      ]
    },
    {
      "cell_type": "markdown",
      "metadata": {},
      "source": [
        "## Create items\n\nNow that an Ansys Dynamic Reporting service is running on top of a\nnew database, you can populate it. To keep this example simple, this code\ncreates multiple text items. It then sets some different names, sources, and\ntags.\n\n"
      ]
    },
    {
      "cell_type": "code",
      "execution_count": null,
      "metadata": {
        "collapsed": false
      },
      "outputs": [],
      "source": [
        "for i in range(100):\n    if i % 3 == 0:\n        my_text = adr_service.create_item(obj_name=f\"Name {str(i%20)}\", source=\"Application X\")\n    elif i % 3 == 1:\n        my_text = adr_service.create_item(obj_name=f\"Name {str(i%20)}\", source=\"Application Y\")\n    elif i % 3 == 2:\n        my_text = adr_service.create_item(obj_name=f\"Name {str(i%20)}\", source=\"Application Z\")\n    my_text.item_text = \"Any text. Does not matter the actual payload\"\n    if i % 4 == 0:\n        my_text.set_tags(\"var=pressure\")\n    elif i % 4 == 1:\n        my_text.set_tags(\"var=energy\")\n    elif i % 4 == 2:\n        my_text.set_tags(\"var=temperature\")\n    elif i % 4 == 3:\n        my_text.set_tags(\"var=vorticity\")\n    my_text.add_tag(tag=\"dp\", value=str(i % 50))"
      ]
    },
    {
      "cell_type": "markdown",
      "metadata": {},
      "source": [
        "## Query the database\n\nNow that the database is populated with a hundred items with different\nnames, sources, and tags, query the database, beginning with an empty\nquery that returns the entire set (all 100 items). Next, query on the\nsource name, which results in three different lists, with 34, 33, and 33 items\nrespectively. Finally, query on the name and the ``dp`` tag. See that the lists\nhave theexpected length. You can try different queries using the other attributes\nthat have been set on the items.\n\n\n"
      ]
    },
    {
      "cell_type": "code",
      "execution_count": null,
      "metadata": {
        "collapsed": false
      },
      "outputs": [],
      "source": [
        "all_items = adr_service.query()\ntest_one = len(all_items) == 100\napp_x = adr_service.query(filter=\"A|i_src|cont|Application X\")\napp_y = adr_service.query(filter=\"A|i_src|cont|Application Y\")\napp_z = adr_service.query(filter=\"A|i_src|cont|Application Z\")\ntest_two = len(app_x) == 34\ntest_three = len(app_y) == len(app_z) == 33\nname_0 = adr_service.query(filter=\"A|i_name|cont|Name 0\")\nname_11 = adr_service.query(filter=\"A|i_name|cont|Name 11\")\nname_7 = adr_service.query(filter=\"A|i_name|cont|Name 7\")\ntest_four = len(name_7) == len(name_0) == len(name_11) == 5\ndp0_items = adr_service.query(filter=\"A|i_tags|cont|dp=0\")\ndp10_items = adr_service.query(filter=\"A|i_tags|cont|dp=10\")\ndp33_items = adr_service.query(filter=\"A|i_tags|cont|dp=33\")\ntest_five = len(dp0_items) == len(dp10_items) == len(dp33_items) == 2"
      ]
    },
    {
      "cell_type": "markdown",
      "metadata": {},
      "source": [
        "## Close the service\n\nClose the Ansys Dynamic Reporting service. The database with the items that\nwere created remains on disk.\n\n"
      ]
    },
    {
      "cell_type": "code",
      "execution_count": null,
      "metadata": {
        "collapsed": false
      },
      "outputs": [],
      "source": [
        "# sphinx_gallery_thumbnail_path = '_static/default_thumb.png'\nadr_service.stop()"
      ]
    }
  ],
  "metadata": {
    "kernelspec": {
      "display_name": "Python 3",
      "language": "python",
      "name": "python3"
    },
    "language_info": {
      "codemirror_mode": {
        "name": "ipython",
        "version": 3
      },
      "file_extension": ".py",
      "mimetype": "text/x-python",
      "name": "python",
      "nbconvert_exporter": "python",
      "pygments_lexer": "ipython3",
      "version": "3.10.14"
    }
  },
  "nbformat": 4,
  "nbformat_minor": 0
}