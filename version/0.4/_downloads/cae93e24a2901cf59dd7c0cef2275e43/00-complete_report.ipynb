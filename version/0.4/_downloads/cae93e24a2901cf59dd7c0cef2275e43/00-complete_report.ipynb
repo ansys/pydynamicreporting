{
  "cells": [
    {
      "cell_type": "code",
      "execution_count": null,
      "metadata": {
        "collapsed": false
      },
      "outputs": [],
      "source": [
        "# ``pydynamicreporting`` example Notebook\n#"
      ]
    },
    {
      "cell_type": "markdown",
      "metadata": {},
      "source": [
        "\n\n# Create a report from scratch\n\nTo use PyDynamicReporting to build a report from scratch, you start\na new Ansys Dynamic Reporting instance on a new database, populate it,\namd generate a report template. As a result, you get a report.\n\n<div class=\"alert alert-info\"><h4>Note</h4><p>This example assumes that you have a local Ansys installation.</p></div>\n"
      ]
    },
    {
      "cell_type": "markdown",
      "metadata": {},
      "source": [
        "## Start an Ansys Dynamic Reporting service\n\nStart an Ansys Dynamic Reporting service with a new database. The path for the\ndatabase directory must be to an empty directory.\n\n"
      ]
    },
    {
      "cell_type": "code",
      "execution_count": null,
      "metadata": {
        "collapsed": false
      },
      "outputs": [],
      "source": [
        "import numpy as np\n\nimport ansys.dynamicreporting.core as adr\n\nansys_loc = r\"C:\\Program Files\\ANSYS Inc\\v232\"\ndb_dir = r\"C:\\tmp\\new_database\"\nport = 8080\nadr_service = adr.Service(ansys_installation=ansys_loc, db_directory=db_dir, port=port)\nsession_guid = adr_service.start(create_db=True)"
      ]
    },
    {
      "cell_type": "markdown",
      "metadata": {},
      "source": [
        "## Create a report template\n\nCreate a report template using the low-level API for Ansys Dynamic Reporting.\n\n\n"
      ]
    },
    {
      "cell_type": "code",
      "execution_count": null,
      "metadata": {
        "collapsed": false
      },
      "outputs": [],
      "source": [
        "adr_service = adr.Service(ansys_installation=ansys_loc, db_directory=db_dir)\nadr_service.connect(url=f\"http://localhost:{port}\")\nserver = adr_service.serverobj\n\ntemplate_003 = server.create_template(\n    name=\"Solution Analysis from Multiphysics simulation\", parent=None, report_type=\"Layout:basic\"\n)\ntemplate_003.params = '{\"HTML\": \"<h1>Solution Report</h1>\"}'\ntemplate_003.set_filter(\"A|i_tags|cont|solution=solverA;\")\nserver.put_objects(template_003)\n\ntemplate_011 = server.create_template(\n    name=\"Project Details\", parent=template_003, report_type=\"Layout:basic\"\n)\ntemplate_011.params = (\n    '{\"TOCitems\": 1, \"HTML\": \"<h2>Project Details</h2>\", \"properties\": {\"justification\": \"left\"}}'\n)\ntemplate_011.set_filter(\"A|i_type|cont|html,string;A|i_tags|cont|text=project_details;\")\nserver.put_objects(template_011)\nserver.put_objects(template_003)\n\ntemplate_000 = server.create_template(name=\"TOC\", parent=template_003, report_type=\"Layout:toc\")\ntemplate_000.params = '{\"TOCitems\": 1, \"HTML\": \"<h2>Table of Contents</h2>\"}'\ntemplate_000.set_filter(\"A|i_name|eq|__NonexistantName__;\")\nserver.put_objects(template_000)\nserver.put_objects(template_003)\n\ntemplate_004 = server.create_template(\n    name=\"TOC Figures\", parent=template_003, report_type=\"Layout:toc\"\n)\ntemplate_004.params = (\n    '{\"TOCitems\": 0, \"TOCfigures\": 1, \"HTML\": \"<h2>List of Figures</h2>\", \"TOCtables\": 0}'\n)\ntemplate_004.set_filter(\"A|i_name|eq|__NonexistantName__;\")\nserver.put_objects(template_004)\nserver.put_objects(template_003)\n\ntemplate_014 = server.create_template(\n    name=\"Introduction\", parent=template_003, report_type=\"Layout:panel\"\n)\ntemplate_014.params = '{\"TOCitems\": 1, \"HTML\": \"<h2>Introduction</h2>\", \"properties\": {\"TOCItem\": \"1\", \"TOCLevel\": \"0\"}}'\ntemplate_014.set_filter(\"A|i_tags|cont|section=intro;\")\nserver.put_objects(template_014)\nserver.put_objects(template_003)\n\ntemplate_015 = server.create_template(name=\"text\", parent=template_014, report_type=\"Layout:basic\")\ntemplate_015.params = '{\"properties\": {\"TOCItem\": \"0\", \"justification\": \"left\"}}'\ntemplate_015.set_filter(\"A|i_type|cont|html,string;\")\nserver.put_objects(template_015)\nserver.put_objects(template_014)\nserver.put_objects(template_003)\n\ntemplate_016 = server.create_template(name=\"img\", parent=template_014, report_type=\"Layout:basic\")\ntemplate_016.params = (\n    '{\"properties\": {\"TOCName\": \"Multiphysics Workflow\", \"TOCItem\": \"\", \"TOCFigure\": \"1\"}}'\n)\ntemplate_016.set_filter(\"A|i_type|cont|image;\")\nserver.put_objects(template_016)\nserver.put_objects(template_014)\nserver.put_objects(template_003)\n\ntemplate_005 = server.create_template(\n    name=\"CAD Model Summary\", parent=template_003, report_type=\"Layout:panel\"\n)\ntemplate_005.params = '{\"TOCitems\": 1, \"HTML\": \"<h2>CAD Model Summary</h2>\", \"properties\": {\"TOCItem\": \"1\", \"TOCLevel\": \"0\"}}'\ntemplate_005.set_filter(\"A|i_tags|cont|section=cad_summary;\")\nserver.put_objects(template_005)\nserver.put_objects(template_003)\n\ntemplate_010 = server.create_template(\n    name=\"Summary of the Design Analysis\", parent=template_005, report_type=\"Layout:basic\"\n)\ntemplate_010.params = (\n    '{\"HTML\": \"<h3>Summary of the Design Analysis</h3>\", \"properties\": {\"TOCLevel\": \"1\"}}'\n)\nserver.put_objects(template_010)\nserver.put_objects(template_005)\nserver.put_objects(template_003)\n\ntemplate_018 = server.create_template(\n    name=\"table_params\", parent=template_010, report_type=\"Layout:basic\"\n)\ntemplate_018.params = '{\"properties\": {\"TOCItem\": \"2\"}}'\ntemplate_018.set_filter(\"A|i_type|cont|table;\")\nserver.put_objects(template_018)\nserver.put_objects(template_010)\nserver.put_objects(template_005)\nserver.put_objects(template_003)\n\ntemplate_017 = server.create_template(name=\"img\", parent=template_010, report_type=\"Layout:basic\")\ntemplate_017.params = (\n    '{\"properties\": {\"TOCItem\": \"0\", \"TOCName\": \"CAD Configuration\", \"TOCFigure\": \"1\"}}'\n)\ntemplate_017.set_filter(\"A|i_type|cont|image;\")\nserver.put_objects(template_017)\nserver.put_objects(template_010)\nserver.put_objects(template_005)\nserver.put_objects(template_003)\n\ntemplate_006 = server.create_template(\n    name=\"Preliminary Analysis Summary\", parent=template_003, report_type=\"Layout:panel\"\n)\ntemplate_006.params = '{\"TOCitems\": 1, \"HTML\": \"<h2>Preliminary Analysis Summary</h2>\", \"properties\": {\"TOCItem\": \"1\", \"TOCLevel\": \"0\"}}'\ntemplate_006.set_filter(\"A|i_tags|cont|section=preliminar_summary;\")\nserver.put_objects(template_006)\nserver.put_objects(template_003)\n\ntemplate_012 = server.create_template(\n    name=\"Results Summary for Preliminary Analysis\", parent=template_006, report_type=\"Layout:basic\"\n)\ntemplate_012.params = (\n    '{\"HTML\": \"<h3>Result summary for Preliminar Analysis</h3>\", \"properties\": {\"TOCLevel\": \"1\"}}'\n)\nserver.put_objects(template_012)\nserver.put_objects(template_006)\nserver.put_objects(template_003)\n\ntemplate_019 = server.create_template(name=\"img\", parent=template_012, report_type=\"Layout:basic\")\ntemplate_019.params = (\n    '{\"properties\": {\"TOCItem\": \"0\", \"TOCName\": \"Discovery CAD\", \"TOCFigure\": \"1\"}}'\n)\ntemplate_019.set_filter(\"A|i_type|cont|image;\")\nserver.put_objects(template_019)\nserver.put_objects(template_012)\nserver.put_objects(template_006)\nserver.put_objects(template_003)\n\ntemplate_002 = server.create_template(\n    name=\"table_params\", parent=template_012, report_type=\"Layout:basic\"\n)\ntemplate_002.params = '{\"properties\": {\"TOCItem\": \"2\"}}'\ntemplate_002.set_filter(\"A|i_type|cont|table;\")\nserver.put_objects(template_002)\nserver.put_objects(template_012)\nserver.put_objects(template_006)\nserver.put_objects(template_003)\n\ntemplate_007 = server.create_template(\n    name=\"Detailed Analysis Summary\", parent=template_003, report_type=\"Layout:panel\"\n)\ntemplate_007.params = '{\"TOCitems\": 1, \"HTML\": \"<h2>Detailedy Analysis Summary</h2>\\\\nDetailed analysis constitutes detailed CFD (Computational Fluid Dynamics) analysis workflow with fluid solver and required data is transferred back to the CAD calibration.\", \"properties\": {\"TOCItem\": \"1\", \"TOCLevel\": \"0\"}}'\ntemplate_007.set_filter(\"A|i_tags|cont|section=detailed_summary;\")\nserver.put_objects(template_007)\nserver.put_objects(template_003)\n\ntemplate_020 = server.create_template(name=\"img\", parent=template_007, report_type=\"Layout:basic\")\ntemplate_020.params = '{\"properties\": {\"TOCItem\": \"0\", \"TOCName\": \"Mesh Review\", \"TOCFigure\": \"1\"}}'\ntemplate_020.set_filter(\"A|i_type|cont|image;\")\nserver.put_objects(template_020)\nserver.put_objects(template_007)\nserver.put_objects(template_003)\n\ntemplate_013 = server.create_template(\n    name=\"Mesh Summary\", parent=template_007, report_type=\"Layout:basic\"\n)\ntemplate_013.params = (\n    '{\"properties\": {\"TOCItem\": \"1\", \"TOCLevel\": \"1\"}, \"HTML\": \"<h3>Mesh Summary</h3>\"}'\n)\ntemplate_013.set_filter(\"A|i_type|cont|table;A|i_tags|cont|table=meshsummary;\")\nserver.put_objects(template_013)\nserver.put_objects(template_007)\nserver.put_objects(template_003)\n\ntemplate_021 = server.create_template(\n    name=\"Results Summary of Detailed Analysis\", parent=template_007, report_type=\"Layout:basic\"\n)\ntemplate_021.params = '{\"properties\": {\"TOCItem\": \"1\", \"TOCLevel\": \"1\"}, \"HTML\": \"<h3>Results Summary of Detailed Analysis</h3>\", \"column_count\": 1, \"column_widths\": [1.0]}'\ntemplate_021.set_filter(\"A|i_type|cont|table;A|i_tags|cont|table=results;\")\nserver.put_objects(template_021)\nserver.put_objects(template_007)\nserver.put_objects(template_003)\n\ntemplate_001 = server.create_template(name=\"table\", parent=template_021, report_type=\"Layout:basic\")\ntemplate_001.params = '{\"properties\": {\"TOCItem\": \"\"}}'\ntemplate_001.set_filter(\"A|i_tags|cont|show=table;\")\nserver.put_objects(template_001)\nserver.put_objects(template_021)\nserver.put_objects(template_007)\nserver.put_objects(template_003)\n\ntemplate_022 = server.create_template(name=\"plots\", parent=template_021, report_type=\"Layout:basic\")\ntemplate_022.params = '{\"properties\": {\"TOCItem\": \"0\", \"plot\": \"line\", \"TOCFigure\": \"2\", \"xaxis\": \"0\", \"format\": \"floatdot0\"}, \"column_count\": 2, \"column_widths\": [1.0, 1.0]}'\ntemplate_022.set_filter(\"A|i_tags|cont|show=plot;\")\nserver.put_objects(template_022)\nserver.put_objects(template_021)\nserver.put_objects(template_007)\nserver.put_objects(template_003)\n\ntemplate_008 = server.create_template(\n    name=\"Results & Conclusion\", parent=template_003, report_type=\"Layout:panel\"\n)\ntemplate_008.params = '{\"TOCitems\": 1, \"HTML\": \"<h2>Results & Conclusion</h2>\", \"properties\": {\"TOCItem\": \"1\", \"TOCLevel\": \"0\"}}'\ntemplate_008.set_filter(\"A|i_tags|cont|section=results;\")\nserver.put_objects(template_008)\nserver.put_objects(template_003)\n\ntemplate_009 = server.create_template(\n    name=\"Results\", parent=template_008, report_type=\"Layout:basic\"\n)\ntemplate_009.params = '{\"properties\": {\"TOCItem\": \"1\", \"TOCLevel\": \"1\"}, \"HTML\": \"<h3>Results</h3>\\\\nResults are feedback for model calibrarion and detailed summary of results as below.\"}'\ntemplate_009.set_filter(\"A|i_type|cont|image;\")\nserver.put_objects(template_009)\nserver.put_objects(template_008)\nserver.put_objects(template_003)\n\ntemplate_023 = server.create_template(\n    name=\"References\", parent=template_003, report_type=\"Layout:basic\"\n)\ntemplate_023.params = '{\"TOCitems\": 1, \"HTML\": \"<h3>References</h3>\", \"properties\": {\"TOCItem\": \"1\", \"TOCLevel\": \"0\", \"justification\": \"left\"}}'\ntemplate_023.set_filter(\"A|i_tags|cont|section=references;\")\nserver.put_objects(template_023)\nserver.put_objects(template_003)"
      ]
    },
    {
      "cell_type": "markdown",
      "metadata": {},
      "source": [
        "## Verify the report\n\nUse the :func:`get_list_reports<ansys.dynamicreporting.core.Service.get_list_reports>`\nmethod on the Ansys Dynamic Reporting object to verify that there is one\ntop-level report in the database now. This call returns a list of the names\nof the top-level reports.\n\n"
      ]
    },
    {
      "cell_type": "code",
      "execution_count": null,
      "metadata": {
        "collapsed": false
      },
      "outputs": [],
      "source": [
        "adr_service.get_list_reports()"
      ]
    },
    {
      "cell_type": "markdown",
      "metadata": {},
      "source": [
        "## Create items\n\nNow that the report template is set, populate the database with items having\nproper tags and names.\n\n\n"
      ]
    },
    {
      "cell_type": "code",
      "execution_count": null,
      "metadata": {
        "collapsed": false
      },
      "outputs": [],
      "source": [
        "a = adr_service.create_item(obj_name=\"introduction\")\na.item_text = \"Project Name: Multiphysics Solution<p></p><p></p>\\r\\n\\r\\nNote:  <p></p>\\r\\n\\r\\n[Images/Json data/plots/tables etc., are getting generated on the fly at each step and getting saved to Ansys Dynamic Reporting database with appropriate tags, based on the report requirement. The report will be generated with pre-defined template] \\r\\n\"\na.set_tags(\"solution=solverA text=project_details\")\nb = adr_service.create_item(obj_name=\"Description\")\nb.item_text = \"[some static content] <p></p>\\r\\nThe workflow provides calibrarion of the CAD model by high-fidelity 3D physics based solution. \\r\\nThis workflow ensures model consistency through design cycle - from CAD via Discovery to advanced Electronic-Fluid multi-physics.\\r\\n\"\nb.set_tags(\"solution=solverA section=intro\")\nb.get_tags()\nc = adr_service.create_item(obj_name=\"Schema\")\nc.item_image = r\"C:\\tmp\\schema.png\"\nc.set_tags(\"solution=solverA section=intro\")\nd = adr_service.create_item(obj_name=\"Schema\")\nd.item_image = r\"C:\\tmp\\sections.png\"\nd.set_tags(\"solution=solverA section=cad_summary\")\ne = adr_service.create_item(obj_name=\"Schema\")\ne.item_image = r\"C:\\tmp\\preliminary.png\"\ne.set_tags(\"solution=solverA section=preliminar_summary\")\nf = adr_service.create_item(obj_name=\"Schema\")\nf.item_image = r\"C:\\tmp\\solution.png\"\nf.set_tags(\"solution=solverA section=detailed_summary\")\ng = adr_service.create_item(obj_name=\"param_input\")\ng.table_dict[\"rowlbls\"] = [\n    \"Inlet Temperature\",\n    \"Total Losses\",\n    \"Inlet Flow Rate\",\n    \"Shaft Temperature\",\n    \"Shaft Flow Rate\",\n]\ng.item_table = np.array([[\"67\"], [\"1.25\"], [\"4.2\"], [\"67\"], [\"4.2\"]], dtype=\"|S20\")\ng.set_tags(\"solution=solverA section=cad_summary\")\nh = adr_service.create_item(obj_name=\"preliminary_table\")\nh.table_dict[\"rowlbls\"] = [\n    \"Max Domain Temp [Celsius]\",\n    \"Water Pressure [Pa]\",\n    \"Water Outlet Temp [Celsius]\",\n]\nh.item_table = np.array([[\"177\"], [\"400\"], [\"67\"]], dtype=\"|S20\")\nh.set_tags(\"solution=solverA section=preliminar_summary\")\ni = adr_service.create_item(obj_name=\"detailed_mesh_table\")\ni.table_dict[\"rowlbls\"] = [\"Total Cell Count\", \"Min Orthogal Quality\", \"Max aspect ratio\", \"Wrap\"]\ni.item_table = np.array([[\"626037\"], [\"0.2\"], [\"17.59\"], [\"0.4\"]], dtype=\"|S20\")\ni.set_tags(\"solution=solverA section=detailed_summary table=meshsummary\")\ntable = adr_service.create_item(obj_name=\"detailed_res_table\")\ntable.table_dict[\"rowlbls\"] = [\n    \"Max Domain Temp [Celsius]\",\n    \"Water Pressure Drop [Pa]\",\n    \"Water Outlet Temperature [Celsius]\",\n]\ntable.item_table = np.array([[\"177\"], [\"500\"], [\"67\"]], dtype=\"|S20\")\ntable.set_tags(\"show=table table=results section=detailed_summary solution=solverA\")\nm = adr_service.create_item(obj_name=\"monitors\")\nm.table_dict[\"rowlbls\"] = [\"Iteration\", \"Monitor Parameter\"]\nm.item_table = np.array(\n    [\n        [\"0\", \"1\", \"2\", \"3\", \"4\", \"5\", \"6\", \"7\", \"8\", \"9\", \"10\"],\n        [\"100\", \"90\", \"93\", \"88\", \"76\", \"71\", \"66\", \"60\", \"55\", \"53\", \"52\"],\n    ],\n    dtype=\"|S20\",\n)\nm.set_tags(\"show=plot table=results section=detailed_summary solution=solverA\")\nn = adr_service.create_item(obj_name=\"Convergence\")\nn.table_dict[\"rowlbls\"] = [\"Iteration\", \"Val 1\", \"Val 2\", \"Val 3\"]\nn.item_table = np.array(\n    [\n        [\"0\", \"1\", \"2\", \"3\", \"4\", \"5\", \"6\", \"7\", \"8\", \"9\", \"10\"],\n        [\"100\", \"90\", \"70\", \"60\", \"30\", \"20\", \"15\", \"15\", \"14\", \"13\", \"15\"],\n        [\"87\", \"85\", \"81\", \"80\", \"73\", \"60\", \"46\", \"20\", \"18\", \"17\", \"10\"],\n        [\"77\", \"73\", \"55\", \"53\", \"51\", \"47\", \"44\", \"30\", \"32\", \"20\", \"18\"],\n    ],\n    dtype=\"|S20\",\n)\nn.set_tags(\"show=plot table=results section=detailed_summary solution=solverA\")\no = adr_service.create_item(obj_name=\"references\")\no.item_text = \"<ul>\\r\\n  <li>Author, A. B. C., Author D. E., ... , Publication Year, Book, title, Publisher.</li>\\r\\n  <li>Author, F. G. H., Author I. J., ... , Publication Year, Book, title, Publisher.</li>\\r\\n</ul>\"\no.set_tags(\"solution=solverA section=references\")"
      ]
    },
    {
      "cell_type": "markdown",
      "metadata": {},
      "source": [
        "## Visualize the report\n\nVisualize the report.\n\n\n"
      ]
    },
    {
      "cell_type": "code",
      "execution_count": null,
      "metadata": {
        "collapsed": false
      },
      "outputs": [],
      "source": [
        "adr_service.visualize_report(report_name=\"Solution Analysis from Multiphysics simulation\")"
      ]
    },
    {
      "cell_type": "markdown",
      "metadata": {},
      "source": [
        "<img src=\"file://_static/00_complete_report_0.png\">\n\n## Close the service\n\nClose the Ansys Dynamic Reporting service. The database with the items that\nwere created remains on disk.\n\n"
      ]
    },
    {
      "cell_type": "code",
      "execution_count": null,
      "metadata": {
        "collapsed": false
      },
      "outputs": [],
      "source": [
        "adr_service.stop()"
      ]
    }
  ],
  "metadata": {
    "kernelspec": {
      "display_name": "Python 3",
      "language": "python",
      "name": "python3"
    },
    "language_info": {
      "codemirror_mode": {
        "name": "ipython",
        "version": 3
      },
      "file_extension": ".py",
      "mimetype": "text/x-python",
      "name": "python",
      "nbconvert_exporter": "python",
      "pygments_lexer": "ipython3",
      "version": "3.10.12"
    }
  },
  "nbformat": 4,
  "nbformat_minor": 0
}